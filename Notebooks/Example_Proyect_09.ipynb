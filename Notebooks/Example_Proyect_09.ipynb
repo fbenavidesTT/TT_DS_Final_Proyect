{
  "cells": [
    {
      "cell_type": "markdown",
      "metadata": {
        "id": "1zsnz93-PKfY"
      },
      "source": [
        "<a href=\"https://colab.research.google.com/github/fralfaro/YP-DS-Sprints/blob/main/docs/DS/solutions/solucion_sprint_09.ipynb\" target=\"_parent\"><img src=\"https://colab.research.google.com/assets/colab-badge.svg\" alt=\"Open In Colab\"/></a>\n",
        "\n",
        "# Sprint 09"
      ]
    },
    {
      "cell_type": "markdown",
      "metadata": {
        "id": "KoTwiS5mPKfb"
      },
      "source": [
        "# Modelo Predictivo para la selección de regiones petroleras con el mayor margen de beneficio en la compañía minera OilyGiant"
      ]
    },
    {
      "cell_type": "markdown",
      "metadata": {
        "toc": true,
        "id": "53l29r64PKfc"
      },
      "source": [
        "<h1>Tabla de Contenidos<span class=\"tocSkip\"></span></h1>\n",
        "<div class=\"toc\"><ul class=\"toc-item\"><li><span><a href=\"#Introducción\" data-toc-modified-id=\"Introducción-1\"><span class=\"toc-item-num\">1&nbsp;&nbsp;</span>Introducción</a></span><ul class=\"toc-item\"><li><span><a href=\"#Objetivos\" data-toc-modified-id=\"Objetivos-1.1\"><span class=\"toc-item-num\">1.1&nbsp;&nbsp;</span>Objetivos</a></span></li></ul></li><li><span><a href=\"#Inicialización\" data-toc-modified-id=\"Inicialización-2\"><span class=\"toc-item-num\">2&nbsp;&nbsp;</span>Inicialización</a></span><ul class=\"toc-item\"><li><span><a href=\"#Cargar-datos\" data-toc-modified-id=\"Cargar-datos-2.1\"><span class=\"toc-item-num\">2.1&nbsp;&nbsp;</span>Cargar datos</a></span></li><li><span><a href=\"#Explorar-datos-iniciales\" data-toc-modified-id=\"Explorar-datos-iniciales-2.2\"><span class=\"toc-item-num\">2.2&nbsp;&nbsp;</span>Explorar datos iniciales</a></span></li><li><span><a href=\"#Visualización-de-datos\" data-toc-modified-id=\"Visualización-de-datos-2.3\"><span class=\"toc-item-num\">2.3&nbsp;&nbsp;</span>Visualización de datos</a></span></li><li><span><a href=\"#Conclusiones\" data-toc-modified-id=\"Conclusiones-2.4\"><span class=\"toc-item-num\">2.4&nbsp;&nbsp;</span>Conclusiones</a></span></li></ul></li><li><span><a href=\"#Preparación-de-datos-fuente\" data-toc-modified-id=\"Preparación-de-datos-fuente-3\"><span class=\"toc-item-num\">3&nbsp;&nbsp;</span>Preparación de datos fuente</a></span><ul class=\"toc-item\"><li><span><a href=\"#Eliminación-columna-id\" data-toc-modified-id=\"Eliminación-columna-id-3.1\"><span class=\"toc-item-num\">3.1&nbsp;&nbsp;</span>Eliminación columna <code>id</code></a></span></li><li><span><a href=\"#Estandarización-de-datos\" data-toc-modified-id=\"Estandarización-de-datos-3.2\"><span class=\"toc-item-num\">3.2&nbsp;&nbsp;</span>Estandarización de datos</a></span></li><li><span><a href=\"#Segmentación-de-datos-fuente\" data-toc-modified-id=\"Segmentación-de-datos-fuente-3.3\"><span class=\"toc-item-num\">3.3&nbsp;&nbsp;</span>Segmentación de datos fuente</a></span></li></ul></li><li><span><a href=\"#Entrenamiento-del-modelo\" data-toc-modified-id=\"Entrenamiento-del-modelo-4\"><span class=\"toc-item-num\">4&nbsp;&nbsp;</span>Entrenamiento del modelo</a></span></li><li><span><a href=\"#Volumen-de-reservas-en-un-pozo\" data-toc-modified-id=\"Volumen-de-reservas-en-un-pozo-5\"><span class=\"toc-item-num\">5&nbsp;&nbsp;</span>Volumen de reservas en un pozo</a></span></li><li><span><a href=\"#Cálculo-de-ganancias-para-pozos-seleccionados\" data-toc-modified-id=\"Cálculo-de-ganancias-para-pozos-seleccionados-6\"><span class=\"toc-item-num\">6&nbsp;&nbsp;</span>Cálculo de ganancias para pozos seleccionados</a></span></li><li><span><a href=\"#Cálculo-de-pérdidas-y-ganancias-para-cada-región\" data-toc-modified-id=\"Cálculo-de-pérdidas-y-ganancias-para-cada-región-7\"><span class=\"toc-item-num\">7&nbsp;&nbsp;</span>Cálculo de pérdidas y ganancias para cada región</a></span></li><li><span><a href=\"#Conclusiones\" data-toc-modified-id=\"Conclusiones-8\"><span class=\"toc-item-num\">8&nbsp;&nbsp;</span>Conclusiones</a></span></li></ul></div>"
      ]
    },
    {
      "cell_type": "markdown",
      "metadata": {
        "id": "vll2RtfUPKfd"
      },
      "source": [
        "## Introducción\n",
        "\n",
        "La compañía minera OilyGiant está buscando el mejor lugar para un nuevo pozo petrolero. Para esto se cuenta con datos sobre muestras de crudo de tres regiones y se conocen los parámetros de cada pozo petrolero de la región. La empresa busca establecer cuál de estas tres regiones genera el mayor margen de beneficio, por lo que será necesario desarrollar un modelo de machine learning que nos permita establecer los riesgos y beneficios potenciales de cada región, y así poder determinar qué región es la más apta para un nuevo pozo.\n",
        "\n",
        "### Objetivos\n",
        "\n",
        "1. Recolectar los parámetros del pozo de petróleo en la región seleccionada: calidad del petróleo y volumen de reservas.\n",
        "2. Construir un modelo para predecir el volumen de reservas en los nuevos pozos.\n",
        "3. Seleccionar los pozos de petróleo con los valores estimados más altos.\n",
        "4. Eligir la región con el mayor beneficio total para los pozos de petróleo seleccionados."
      ]
    },
    {
      "cell_type": "markdown",
      "metadata": {
        "id": "4F2oJgcvPKfd"
      },
      "source": [
        "## Inicialización\n",
        "\n",
        "Primeramente, vamos a importar todas las librerías necesarias para la construcción correcta de un modelo de machine learning. En este caso, trabajaremos con las librerías `Pandas`, `Numpy`, `Seaborn` y `Scikit-Learn`, que permiten leer correctamente los archivos, trabajar con bases de datos, trazar gráficos y construir modelos predictivos."
      ]
    },
    {
      "cell_type": "code",
      "source": [
        "from google.colab import drive\n",
        "drive.mount('/content/drive')"
      ],
      "metadata": {
        "id": "Pa1FwsyOPM73",
        "outputId": "ce1330e4-e417-40fb-ac62-93aa7eb9ad00",
        "colab": {
          "base_uri": "https://localhost:8080/"
        }
      },
      "execution_count": 1,
      "outputs": [
        {
          "output_type": "stream",
          "name": "stdout",
          "text": [
            "Mounted at /content/drive\n"
          ]
        }
      ]
    },
    {
      "cell_type": "code",
      "execution_count": 2,
      "metadata": {
        "id": "NQFjk0JAPKfe"
      },
      "outputs": [],
      "source": [
        "import numpy as np\n",
        "import pandas as pd\n",
        "import seaborn as sns\n",
        "import matplotlib.pyplot as plt\n",
        "\n",
        "from sklearn.linear_model import LinearRegression\n",
        "from sklearn.model_selection import train_test_split\n",
        "from sklearn.preprocessing import StandardScaler\n",
        "from sklearn.metrics import mean_squared_error"
      ]
    },
    {
      "cell_type": "markdown",
      "metadata": {
        "id": "b1snGqS8PKff"
      },
      "source": [
        "### Cargar datos\n",
        "\n",
        "En segundo lugar, importamos los datasets con la información de la exploración geológica de las tres regiones potenciales para un nuevo pozo petrolero. Para esto utilizaremos la función `read_csv` de pandas y pasaremos como argumento la ubicación de cada archivo. Guardaremos los datos de la primera región en la variable `region_1`, de la segunda región en `region_2` y de la tercera región en `region_3`."
      ]
    },
    {
      "cell_type": "code",
      "execution_count": 3,
      "metadata": {
        "id": "3RyIhtF5PKff"
      },
      "outputs": [],
      "source": [
        "path = \"/content/drive/MyDrive/DataScience/TripleTen/Sprints/DS/\"\n",
        "\n",
        "region_1 = pd.read_csv(path + 'geo_data_0.csv')\n",
        "region_2 = pd.read_csv(path + 'geo_data_1.csv')\n",
        "region_3 = pd.read_csv(path + 'geo_data_2.csv')"
      ]
    },
    {
      "cell_type": "markdown",
      "metadata": {
        "id": "Kbg58KlwPKfg"
      },
      "source": [
        "<div class=\"alert alert-block alert-success\">\n",
        "<b>Comentario del revisor</b> <a class=\"tocSkip\"></a>\n",
        "    \n",
        "Buen inicio.\n",
        "</div>"
      ]
    },
    {
      "cell_type": "markdown",
      "metadata": {
        "id": "PZhugpMuPKfg"
      },
      "source": [
        "### Explorar datos iniciales\n",
        "\n",
        "Con los datasets correctamente importados, ahora procedemos a realizar una exploración inicial de los datos para las tres regiones. En este caso llamaremos al atributo `shape`, y los métodos `head` e `info` para los tres datasets.\n",
        "\n",
        "**REGIÓN 1**"
      ]
    },
    {
      "cell_type": "code",
      "execution_count": 4,
      "metadata": {
        "id": "1uo7nLqAPKfg",
        "outputId": "84c30eee-0502-46d2-9cd1-2cc1bf378d65",
        "colab": {
          "base_uri": "https://localhost:8080/"
        }
      },
      "outputs": [
        {
          "output_type": "execute_result",
          "data": {
            "text/plain": [
              "(100000, 5)"
            ]
          },
          "metadata": {},
          "execution_count": 4
        }
      ],
      "source": [
        "region_1.shape"
      ]
    },
    {
      "cell_type": "code",
      "execution_count": null,
      "metadata": {
        "id": "ZjQ3v5uyPKfh",
        "outputId": "08943eb2-1d24-4d40-9bac-5fad6ca65c55"
      },
      "outputs": [
        {
          "data": {
            "text/html": [
              "<div>\n",
              "<style scoped>\n",
              "    .dataframe tbody tr th:only-of-type {\n",
              "        vertical-align: middle;\n",
              "    }\n",
              "\n",
              "    .dataframe tbody tr th {\n",
              "        vertical-align: top;\n",
              "    }\n",
              "\n",
              "    .dataframe thead th {\n",
              "        text-align: right;\n",
              "    }\n",
              "</style>\n",
              "<table border=\"1\" class=\"dataframe\">\n",
              "  <thead>\n",
              "    <tr style=\"text-align: right;\">\n",
              "      <th></th>\n",
              "      <th>id</th>\n",
              "      <th>f0</th>\n",
              "      <th>f1</th>\n",
              "      <th>f2</th>\n",
              "      <th>product</th>\n",
              "    </tr>\n",
              "  </thead>\n",
              "  <tbody>\n",
              "    <tr>\n",
              "      <th>0</th>\n",
              "      <td>txEyH</td>\n",
              "      <td>0.705745</td>\n",
              "      <td>-0.497823</td>\n",
              "      <td>1.221170</td>\n",
              "      <td>105.280062</td>\n",
              "    </tr>\n",
              "    <tr>\n",
              "      <th>1</th>\n",
              "      <td>2acmU</td>\n",
              "      <td>1.334711</td>\n",
              "      <td>-0.340164</td>\n",
              "      <td>4.365080</td>\n",
              "      <td>73.037750</td>\n",
              "    </tr>\n",
              "    <tr>\n",
              "      <th>2</th>\n",
              "      <td>409Wp</td>\n",
              "      <td>1.022732</td>\n",
              "      <td>0.151990</td>\n",
              "      <td>1.419926</td>\n",
              "      <td>85.265647</td>\n",
              "    </tr>\n",
              "    <tr>\n",
              "      <th>3</th>\n",
              "      <td>iJLyR</td>\n",
              "      <td>-0.032172</td>\n",
              "      <td>0.139033</td>\n",
              "      <td>2.978566</td>\n",
              "      <td>168.620776</td>\n",
              "    </tr>\n",
              "    <tr>\n",
              "      <th>4</th>\n",
              "      <td>Xdl7t</td>\n",
              "      <td>1.988431</td>\n",
              "      <td>0.155413</td>\n",
              "      <td>4.751769</td>\n",
              "      <td>154.036647</td>\n",
              "    </tr>\n",
              "  </tbody>\n",
              "</table>\n",
              "</div>"
            ],
            "text/plain": [
              "      id        f0        f1        f2     product\n",
              "0  txEyH  0.705745 -0.497823  1.221170  105.280062\n",
              "1  2acmU  1.334711 -0.340164  4.365080   73.037750\n",
              "2  409Wp  1.022732  0.151990  1.419926   85.265647\n",
              "3  iJLyR -0.032172  0.139033  2.978566  168.620776\n",
              "4  Xdl7t  1.988431  0.155413  4.751769  154.036647"
            ]
          },
          "execution_count": 4,
          "metadata": {},
          "output_type": "execute_result"
        }
      ],
      "source": [
        "region_1.head()"
      ]
    },
    {
      "cell_type": "code",
      "execution_count": null,
      "metadata": {
        "id": "62Y6R3B7PKfh",
        "outputId": "d9a6c332-6bc6-4f67-8d2c-61cf26a9e05f"
      },
      "outputs": [
        {
          "name": "stdout",
          "output_type": "stream",
          "text": [
            "<class 'pandas.core.frame.DataFrame'>\n",
            "RangeIndex: 100000 entries, 0 to 99999\n",
            "Data columns (total 5 columns):\n",
            " #   Column   Non-Null Count   Dtype  \n",
            "---  ------   --------------   -----  \n",
            " 0   id       100000 non-null  object \n",
            " 1   f0       100000 non-null  float64\n",
            " 2   f1       100000 non-null  float64\n",
            " 3   f2       100000 non-null  float64\n",
            " 4   product  100000 non-null  float64\n",
            "dtypes: float64(4), object(1)\n",
            "memory usage: 3.8+ MB\n"
          ]
        }
      ],
      "source": [
        "region_1.info()"
      ]
    },
    {
      "cell_type": "markdown",
      "metadata": {
        "id": "Q63p_4v2PKfh"
      },
      "source": [
        "**REGIÓN 2**"
      ]
    },
    {
      "cell_type": "code",
      "execution_count": null,
      "metadata": {
        "id": "vcxmXygMPKfh",
        "outputId": "878d6a10-5354-461e-863d-4fd6cdf82592"
      },
      "outputs": [
        {
          "data": {
            "text/plain": [
              "(100000, 5)"
            ]
          },
          "execution_count": 6,
          "metadata": {},
          "output_type": "execute_result"
        }
      ],
      "source": [
        "region_2.shape"
      ]
    },
    {
      "cell_type": "code",
      "execution_count": null,
      "metadata": {
        "id": "fAmFVopzPKfh",
        "outputId": "be7a5926-1e7e-4b8f-b8c5-37516caa3446"
      },
      "outputs": [
        {
          "data": {
            "text/html": [
              "<div>\n",
              "<style scoped>\n",
              "    .dataframe tbody tr th:only-of-type {\n",
              "        vertical-align: middle;\n",
              "    }\n",
              "\n",
              "    .dataframe tbody tr th {\n",
              "        vertical-align: top;\n",
              "    }\n",
              "\n",
              "    .dataframe thead th {\n",
              "        text-align: right;\n",
              "    }\n",
              "</style>\n",
              "<table border=\"1\" class=\"dataframe\">\n",
              "  <thead>\n",
              "    <tr style=\"text-align: right;\">\n",
              "      <th></th>\n",
              "      <th>id</th>\n",
              "      <th>f0</th>\n",
              "      <th>f1</th>\n",
              "      <th>f2</th>\n",
              "      <th>product</th>\n",
              "    </tr>\n",
              "  </thead>\n",
              "  <tbody>\n",
              "    <tr>\n",
              "      <th>0</th>\n",
              "      <td>kBEdx</td>\n",
              "      <td>-15.001348</td>\n",
              "      <td>-8.276000</td>\n",
              "      <td>-0.005876</td>\n",
              "      <td>3.179103</td>\n",
              "    </tr>\n",
              "    <tr>\n",
              "      <th>1</th>\n",
              "      <td>62mP7</td>\n",
              "      <td>14.272088</td>\n",
              "      <td>-3.475083</td>\n",
              "      <td>0.999183</td>\n",
              "      <td>26.953261</td>\n",
              "    </tr>\n",
              "    <tr>\n",
              "      <th>2</th>\n",
              "      <td>vyE1P</td>\n",
              "      <td>6.263187</td>\n",
              "      <td>-5.948386</td>\n",
              "      <td>5.001160</td>\n",
              "      <td>134.766305</td>\n",
              "    </tr>\n",
              "    <tr>\n",
              "      <th>3</th>\n",
              "      <td>KcrkZ</td>\n",
              "      <td>-13.081196</td>\n",
              "      <td>-11.506057</td>\n",
              "      <td>4.999415</td>\n",
              "      <td>137.945408</td>\n",
              "    </tr>\n",
              "    <tr>\n",
              "      <th>4</th>\n",
              "      <td>AHL4O</td>\n",
              "      <td>12.702195</td>\n",
              "      <td>-8.147433</td>\n",
              "      <td>5.004363</td>\n",
              "      <td>134.766305</td>\n",
              "    </tr>\n",
              "  </tbody>\n",
              "</table>\n",
              "</div>"
            ],
            "text/plain": [
              "      id         f0         f1        f2     product\n",
              "0  kBEdx -15.001348  -8.276000 -0.005876    3.179103\n",
              "1  62mP7  14.272088  -3.475083  0.999183   26.953261\n",
              "2  vyE1P   6.263187  -5.948386  5.001160  134.766305\n",
              "3  KcrkZ -13.081196 -11.506057  4.999415  137.945408\n",
              "4  AHL4O  12.702195  -8.147433  5.004363  134.766305"
            ]
          },
          "execution_count": 7,
          "metadata": {},
          "output_type": "execute_result"
        }
      ],
      "source": [
        "region_2.head()"
      ]
    },
    {
      "cell_type": "code",
      "execution_count": null,
      "metadata": {
        "id": "qZIMLuvVPKfi",
        "outputId": "0e6a3462-b1dd-40a9-c623-b720608a7f07"
      },
      "outputs": [
        {
          "name": "stdout",
          "output_type": "stream",
          "text": [
            "<class 'pandas.core.frame.DataFrame'>\n",
            "RangeIndex: 100000 entries, 0 to 99999\n",
            "Data columns (total 5 columns):\n",
            " #   Column   Non-Null Count   Dtype  \n",
            "---  ------   --------------   -----  \n",
            " 0   id       100000 non-null  object \n",
            " 1   f0       100000 non-null  float64\n",
            " 2   f1       100000 non-null  float64\n",
            " 3   f2       100000 non-null  float64\n",
            " 4   product  100000 non-null  float64\n",
            "dtypes: float64(4), object(1)\n",
            "memory usage: 3.8+ MB\n"
          ]
        }
      ],
      "source": [
        "region_2.info()"
      ]
    },
    {
      "cell_type": "markdown",
      "metadata": {
        "id": "TFBaXvBZPKfi"
      },
      "source": [
        "**REGIÓN 3**"
      ]
    },
    {
      "cell_type": "code",
      "execution_count": null,
      "metadata": {
        "id": "xO3OJkzZPKfi",
        "outputId": "5e670be1-050d-4d41-a633-d5cd9bc81102"
      },
      "outputs": [
        {
          "data": {
            "text/plain": [
              "(100000, 5)"
            ]
          },
          "execution_count": 9,
          "metadata": {},
          "output_type": "execute_result"
        }
      ],
      "source": [
        "region_3.shape"
      ]
    },
    {
      "cell_type": "code",
      "execution_count": null,
      "metadata": {
        "id": "hyrb4LZaPKfi",
        "outputId": "66590037-fdad-490f-8efe-dfcda371625a"
      },
      "outputs": [
        {
          "data": {
            "text/html": [
              "<div>\n",
              "<style scoped>\n",
              "    .dataframe tbody tr th:only-of-type {\n",
              "        vertical-align: middle;\n",
              "    }\n",
              "\n",
              "    .dataframe tbody tr th {\n",
              "        vertical-align: top;\n",
              "    }\n",
              "\n",
              "    .dataframe thead th {\n",
              "        text-align: right;\n",
              "    }\n",
              "</style>\n",
              "<table border=\"1\" class=\"dataframe\">\n",
              "  <thead>\n",
              "    <tr style=\"text-align: right;\">\n",
              "      <th></th>\n",
              "      <th>id</th>\n",
              "      <th>f0</th>\n",
              "      <th>f1</th>\n",
              "      <th>f2</th>\n",
              "      <th>product</th>\n",
              "    </tr>\n",
              "  </thead>\n",
              "  <tbody>\n",
              "    <tr>\n",
              "      <th>0</th>\n",
              "      <td>fwXo0</td>\n",
              "      <td>-1.146987</td>\n",
              "      <td>0.963328</td>\n",
              "      <td>-0.828965</td>\n",
              "      <td>27.758673</td>\n",
              "    </tr>\n",
              "    <tr>\n",
              "      <th>1</th>\n",
              "      <td>WJtFt</td>\n",
              "      <td>0.262778</td>\n",
              "      <td>0.269839</td>\n",
              "      <td>-2.530187</td>\n",
              "      <td>56.069697</td>\n",
              "    </tr>\n",
              "    <tr>\n",
              "      <th>2</th>\n",
              "      <td>ovLUW</td>\n",
              "      <td>0.194587</td>\n",
              "      <td>0.289035</td>\n",
              "      <td>-5.586433</td>\n",
              "      <td>62.871910</td>\n",
              "    </tr>\n",
              "    <tr>\n",
              "      <th>3</th>\n",
              "      <td>q6cA6</td>\n",
              "      <td>2.236060</td>\n",
              "      <td>-0.553760</td>\n",
              "      <td>0.930038</td>\n",
              "      <td>114.572842</td>\n",
              "    </tr>\n",
              "    <tr>\n",
              "      <th>4</th>\n",
              "      <td>WPMUX</td>\n",
              "      <td>-0.515993</td>\n",
              "      <td>1.716266</td>\n",
              "      <td>5.899011</td>\n",
              "      <td>149.600746</td>\n",
              "    </tr>\n",
              "  </tbody>\n",
              "</table>\n",
              "</div>"
            ],
            "text/plain": [
              "      id        f0        f1        f2     product\n",
              "0  fwXo0 -1.146987  0.963328 -0.828965   27.758673\n",
              "1  WJtFt  0.262778  0.269839 -2.530187   56.069697\n",
              "2  ovLUW  0.194587  0.289035 -5.586433   62.871910\n",
              "3  q6cA6  2.236060 -0.553760  0.930038  114.572842\n",
              "4  WPMUX -0.515993  1.716266  5.899011  149.600746"
            ]
          },
          "execution_count": 10,
          "metadata": {},
          "output_type": "execute_result"
        }
      ],
      "source": [
        "region_3.head()"
      ]
    },
    {
      "cell_type": "code",
      "execution_count": null,
      "metadata": {
        "id": "JR3MhTVzPKfi",
        "outputId": "1cd8e9eb-a7f3-4fbe-a854-f70a03c010f6"
      },
      "outputs": [
        {
          "name": "stdout",
          "output_type": "stream",
          "text": [
            "<class 'pandas.core.frame.DataFrame'>\n",
            "RangeIndex: 100000 entries, 0 to 99999\n",
            "Data columns (total 5 columns):\n",
            " #   Column   Non-Null Count   Dtype  \n",
            "---  ------   --------------   -----  \n",
            " 0   id       100000 non-null  object \n",
            " 1   f0       100000 non-null  float64\n",
            " 2   f1       100000 non-null  float64\n",
            " 3   f2       100000 non-null  float64\n",
            " 4   product  100000 non-null  float64\n",
            "dtypes: float64(4), object(1)\n",
            "memory usage: 3.8+ MB\n"
          ]
        }
      ],
      "source": [
        "region_3.info()"
      ]
    },
    {
      "cell_type": "markdown",
      "metadata": {
        "id": "B_H7ezq1PKfi"
      },
      "source": [
        "En los tres datasets nos encontramos con 100000 filas u observaciones y cinco columnas que contienen la siguiente información:\n",
        "\n",
        "- `id` — identificador único de pozo de petróleo\n",
        "- `f0, f1, f2` — tres características de los puntos (su significado específico no es importante, pero las características en sí son significativas)\n",
        "- `product` — volumen de reservas en el pozo de petróleo (miles de barriles).\n",
        "\n",
        "La columna `id` se encuentra como tipo objeto y las columnas restantes son de tipo float, los tipos de datos son correctos, así que no requieren una posterior correción. A su vez, no se registran valores ausentes en ninguno de los tres datasets. Ahora revisaremos si existen duplicados, para esto llamaremos al método `duplicated` y `sum` a cada dataset a través de un bucle for."
      ]
    },
    {
      "cell_type": "code",
      "execution_count": null,
      "metadata": {
        "id": "5xHHjtyxPKfj",
        "outputId": "0088faaf-a64c-45d3-a3d8-f6f446d1ef7f"
      },
      "outputs": [
        {
          "name": "stdout",
          "output_type": "stream",
          "text": [
            "Número de valores duplicados Región 1 : 0\n",
            "Número de valores duplicados Región 2 : 0\n",
            "Número de valores duplicados Región 3 : 0\n"
          ]
        }
      ],
      "source": [
        "list_datasets = [region_1, region_2, region_3]\n",
        "\n",
        "region_1.name = 'Región 1'\n",
        "region_2.name = 'Región 2'\n",
        "region_3.name = 'Región 3'\n",
        "\n",
        "for i in list_datasets:\n",
        "    duplicates =  i.duplicated().sum()\n",
        "    print('Número de valores duplicados', i.name, ':', duplicates)"
      ]
    },
    {
      "cell_type": "markdown",
      "metadata": {
        "id": "KKgVYMn1PKfj"
      },
      "source": [
        "Podemos confirmar la ausencia de valores duplicados y ausentes en los tres datasets por lo que continuamos con el análisis exploratorio de variables numéricas y categóricas.\n",
        "\n",
        "### Visualización de datos\n",
        "\n",
        "En nuestros tres datasets se observa una variable discreta que corresponde al id de cada pozo, así que no vamos a trazar gráficos de esta variable. Por otro lado, se registran cuatro variables continuas, vamos a realizar un breve análisis exploratorio de cada variable en cada una de las tres regiones. Para esto construiremos una función `hist`, que nos devolverá un histograma de frecuencias de las columnas `f0`, `f1`, `f2` y `product`, la función contará con los siguientes argumentos:\n",
        "\n",
        "- `region`: dataset de cada región.\n",
        "- `region_name`: nombre de cada región\n",
        "- `bins`: número de contenedores para trazar histogramas"
      ]
    },
    {
      "cell_type": "markdown",
      "metadata": {
        "id": "njw5ttUhPKfj"
      },
      "source": [
        "<div class=\"alert alert-block alert-warning\">\n",
        "<b>Comentario del revisor</b> <a class=\"tocSkip\"></a>\n",
        "    \n",
        "En este caso te podría sugerir que empleases un bucle para reducir las líneas de código y el número de celdas. Pero todo está perfecto.\n",
        "</div>"
      ]
    },
    {
      "cell_type": "code",
      "execution_count": null,
      "metadata": {
        "id": "WsSoMfzFPKfj"
      },
      "outputs": [],
      "source": [
        "def hist(region, region_name ='', bins=0):\n",
        "\n",
        "# Almacenamos a las variables continuas en la variable numerical_data_1\n",
        "    numerical_data= ['f0', 'f1', 'f2', 'product']\n",
        "\n",
        "# Establecemos el número de filas y columnas para nuestros subplots\n",
        "    a = 2 # número de filas\n",
        "    b = 2 # número de columnas\n",
        "    c = 1 # inicialización del conteo de plots\n",
        "\n",
        "# Establecemos el tamaño de nuestra figura de subplots\n",
        "    fig = plt.subplots(figsize=(10, 6))\n",
        "\n",
        "# Construimos un bucle for que iterará por cada columna numérica y devolverá un histograma\n",
        "    for i in numerical_data:\n",
        "        plt.subplot(a, b, c)\n",
        "        plt.title(i)\n",
        "        region[i].hist(bins=bins, edgecolor = 'black', linewidth = 0.8)\n",
        "        c = c + 1\n",
        "\n",
        "    plt.suptitle(region_name)\n",
        "    plt.tight_layout()\n",
        "    plt.show()"
      ]
    },
    {
      "cell_type": "markdown",
      "metadata": {
        "id": "HJ1lj_sJPKfj"
      },
      "source": [
        "Definida nuestra función, vamos a aplicarla a cada región, y también llamaremos al método describe para analizar más a fondo la distribución de nuestros datos en las tres regiones de este proyecto.\n",
        "\n",
        "**REGIÓN 1**"
      ]
    },
    {
      "cell_type": "code",
      "execution_count": null,
      "metadata": {
        "id": "Yd8JvlOsPKfj",
        "outputId": "6f0ad8f0-5220-4d8e-9498-d7ce975b968f"
      },
      "outputs": [
        {
          "data": {
            "text/html": [
              "<div>\n",
              "<style scoped>\n",
              "    .dataframe tbody tr th:only-of-type {\n",
              "        vertical-align: middle;\n",
              "    }\n",
              "\n",
              "    .dataframe tbody tr th {\n",
              "        vertical-align: top;\n",
              "    }\n",
              "\n",
              "    .dataframe thead th {\n",
              "        text-align: right;\n",
              "    }\n",
              "</style>\n",
              "<table border=\"1\" class=\"dataframe\">\n",
              "  <thead>\n",
              "    <tr style=\"text-align: right;\">\n",
              "      <th></th>\n",
              "      <th>f0</th>\n",
              "      <th>f1</th>\n",
              "      <th>f2</th>\n",
              "      <th>product</th>\n",
              "    </tr>\n",
              "  </thead>\n",
              "  <tbody>\n",
              "    <tr>\n",
              "      <th>count</th>\n",
              "      <td>100000.000000</td>\n",
              "      <td>100000.000000</td>\n",
              "      <td>100000.000000</td>\n",
              "      <td>100000.000000</td>\n",
              "    </tr>\n",
              "    <tr>\n",
              "      <th>mean</th>\n",
              "      <td>0.500419</td>\n",
              "      <td>0.250143</td>\n",
              "      <td>2.502647</td>\n",
              "      <td>92.500000</td>\n",
              "    </tr>\n",
              "    <tr>\n",
              "      <th>std</th>\n",
              "      <td>0.871832</td>\n",
              "      <td>0.504433</td>\n",
              "      <td>3.248248</td>\n",
              "      <td>44.288691</td>\n",
              "    </tr>\n",
              "    <tr>\n",
              "      <th>min</th>\n",
              "      <td>-1.408605</td>\n",
              "      <td>-0.848218</td>\n",
              "      <td>-12.088328</td>\n",
              "      <td>0.000000</td>\n",
              "    </tr>\n",
              "    <tr>\n",
              "      <th>25%</th>\n",
              "      <td>-0.072580</td>\n",
              "      <td>-0.200881</td>\n",
              "      <td>0.287748</td>\n",
              "      <td>56.497507</td>\n",
              "    </tr>\n",
              "    <tr>\n",
              "      <th>50%</th>\n",
              "      <td>0.502360</td>\n",
              "      <td>0.250252</td>\n",
              "      <td>2.515969</td>\n",
              "      <td>91.849972</td>\n",
              "    </tr>\n",
              "    <tr>\n",
              "      <th>75%</th>\n",
              "      <td>1.073581</td>\n",
              "      <td>0.700646</td>\n",
              "      <td>4.715088</td>\n",
              "      <td>128.564089</td>\n",
              "    </tr>\n",
              "    <tr>\n",
              "      <th>max</th>\n",
              "      <td>2.362331</td>\n",
              "      <td>1.343769</td>\n",
              "      <td>16.003790</td>\n",
              "      <td>185.364347</td>\n",
              "    </tr>\n",
              "  </tbody>\n",
              "</table>\n",
              "</div>"
            ],
            "text/plain": [
              "                  f0             f1             f2        product\n",
              "count  100000.000000  100000.000000  100000.000000  100000.000000\n",
              "mean        0.500419       0.250143       2.502647      92.500000\n",
              "std         0.871832       0.504433       3.248248      44.288691\n",
              "min        -1.408605      -0.848218     -12.088328       0.000000\n",
              "25%        -0.072580      -0.200881       0.287748      56.497507\n",
              "50%         0.502360       0.250252       2.515969      91.849972\n",
              "75%         1.073581       0.700646       4.715088     128.564089\n",
              "max         2.362331       1.343769      16.003790     185.364347"
            ]
          },
          "execution_count": 14,
          "metadata": {},
          "output_type": "execute_result"
        }
      ],
      "source": [
        "region_1.describe()"
      ]
    },
    {
      "cell_type": "code",
      "execution_count": null,
      "metadata": {
        "id": "tfaQfEV5PKfk",
        "outputId": "0cfbbc6a-9d79-4749-d6ad-2b74dd8e70fe"
      },
      "outputs": [
        {
          "data": {
            "image/png": "[encoded data removed]",
            "text/plain": [
              "<Figure size 720x432 with 4 Axes>"
            ]
          },
          "metadata": {
            "needs_background": "light"
          },
          "output_type": "display_data"
        }
      ],
      "source": [
        "hist(region_1, 'Región 1', 10)"
      ]
    },
    {
      "cell_type": "markdown",
      "metadata": {
        "id": "fr7X_ATEPKfk"
      },
      "source": [
        "En la REGIÓN 1 podemos observar una distribución más o menos normal para las variables `f0`, `f2` y `product`. Pudiendo establecer un ligero sesgo hacia la izquierda en las variables `f0`, `f1` y `f2`, en las cuales se registra una mediana ligeramente mayor a la media. Mientras que para la variable `product` se observa una asimetría positiva, con una media mayor a la mediana y una mayor desviación estándar. El volumen promedio de reservas en la región 1 es de 92.5 mil barriles.\n",
        "\n",
        "**REGIÓN 2**"
      ]
    },
    {
      "cell_type": "code",
      "execution_count": null,
      "metadata": {
        "id": "8hBvudE-PKfk",
        "outputId": "84abcee5-4301-4c56-efdf-f8af79d67e53"
      },
      "outputs": [
        {
          "data": {
            "text/html": [
              "<div>\n",
              "<style scoped>\n",
              "    .dataframe tbody tr th:only-of-type {\n",
              "        vertical-align: middle;\n",
              "    }\n",
              "\n",
              "    .dataframe tbody tr th {\n",
              "        vertical-align: top;\n",
              "    }\n",
              "\n",
              "    .dataframe thead th {\n",
              "        text-align: right;\n",
              "    }\n",
              "</style>\n",
              "<table border=\"1\" class=\"dataframe\">\n",
              "  <thead>\n",
              "    <tr style=\"text-align: right;\">\n",
              "      <th></th>\n",
              "      <th>f0</th>\n",
              "      <th>f1</th>\n",
              "      <th>f2</th>\n",
              "      <th>product</th>\n",
              "    </tr>\n",
              "  </thead>\n",
              "  <tbody>\n",
              "    <tr>\n",
              "      <th>count</th>\n",
              "      <td>100000.000000</td>\n",
              "      <td>100000.000000</td>\n",
              "      <td>100000.000000</td>\n",
              "      <td>100000.000000</td>\n",
              "    </tr>\n",
              "    <tr>\n",
              "      <th>mean</th>\n",
              "      <td>1.141296</td>\n",
              "      <td>-4.796579</td>\n",
              "      <td>2.494541</td>\n",
              "      <td>68.825000</td>\n",
              "    </tr>\n",
              "    <tr>\n",
              "      <th>std</th>\n",
              "      <td>8.965932</td>\n",
              "      <td>5.119872</td>\n",
              "      <td>1.703572</td>\n",
              "      <td>45.944423</td>\n",
              "    </tr>\n",
              "    <tr>\n",
              "      <th>min</th>\n",
              "      <td>-31.609576</td>\n",
              "      <td>-26.358598</td>\n",
              "      <td>-0.018144</td>\n",
              "      <td>0.000000</td>\n",
              "    </tr>\n",
              "    <tr>\n",
              "      <th>25%</th>\n",
              "      <td>-6.298551</td>\n",
              "      <td>-8.267985</td>\n",
              "      <td>1.000021</td>\n",
              "      <td>26.953261</td>\n",
              "    </tr>\n",
              "    <tr>\n",
              "      <th>50%</th>\n",
              "      <td>1.153055</td>\n",
              "      <td>-4.813172</td>\n",
              "      <td>2.011479</td>\n",
              "      <td>57.085625</td>\n",
              "    </tr>\n",
              "    <tr>\n",
              "      <th>75%</th>\n",
              "      <td>8.621015</td>\n",
              "      <td>-1.332816</td>\n",
              "      <td>3.999904</td>\n",
              "      <td>107.813044</td>\n",
              "    </tr>\n",
              "    <tr>\n",
              "      <th>max</th>\n",
              "      <td>29.421755</td>\n",
              "      <td>18.734063</td>\n",
              "      <td>5.019721</td>\n",
              "      <td>137.945408</td>\n",
              "    </tr>\n",
              "  </tbody>\n",
              "</table>\n",
              "</div>"
            ],
            "text/plain": [
              "                  f0             f1             f2        product\n",
              "count  100000.000000  100000.000000  100000.000000  100000.000000\n",
              "mean        1.141296      -4.796579       2.494541      68.825000\n",
              "std         8.965932       5.119872       1.703572      45.944423\n",
              "min       -31.609576     -26.358598      -0.018144       0.000000\n",
              "25%        -6.298551      -8.267985       1.000021      26.953261\n",
              "50%         1.153055      -4.813172       2.011479      57.085625\n",
              "75%         8.621015      -1.332816       3.999904     107.813044\n",
              "max        29.421755      18.734063       5.019721     137.945408"
            ]
          },
          "execution_count": 16,
          "metadata": {},
          "output_type": "execute_result"
        }
      ],
      "source": [
        "region_2.describe()"
      ]
    },
    {
      "cell_type": "code",
      "execution_count": null,
      "metadata": {
        "id": "nxc97l3_PKfk",
        "outputId": "86130f99-c8c3-46df-98b0-f6372d113ddf"
      },
      "outputs": [
        {
          "data": {
            "image/png": "[encoded data removed]",
            "text/plain": [
              "<Figure size 720x432 with 4 Axes>"
            ]
          },
          "metadata": {
            "needs_background": "light"
          },
          "output_type": "display_data"
        }
      ],
      "source": [
        "hist(region_2, 'Región 2', 10)"
      ]
    },
    {
      "cell_type": "markdown",
      "metadata": {
        "id": "d93MfKOKPKfk"
      },
      "source": [
        "En la REGIÓN 2 encontramos una distribución similar a una campana de Gauss para las regiones `f0` y `f1`, sin embargo se registra una asimetría negativa para `f0` y una asimetría positiva para `f1`. Para la variable `f2` encontramos una distribución no uniforme ni normal, registrando varios picos, a su vez se observa una asimetría positiva, con una media mayor a la mediana. Finalmente, para la variable `product` observamos una distribución uniforme a lo largo de los diferentes volúmenes de reserva, con un volumen promedio de reservas de 68.82 para la región 2.\n",
        "\n",
        "**REGIÓN 3**\n",
        "\n"
      ]
    },
    {
      "cell_type": "code",
      "execution_count": null,
      "metadata": {
        "id": "3i3panq3PKfk",
        "outputId": "b5d33506-f0ff-478a-c49e-3a1bd76c1c7f"
      },
      "outputs": [
        {
          "data": {
            "text/html": [
              "<div>\n",
              "<style scoped>\n",
              "    .dataframe tbody tr th:only-of-type {\n",
              "        vertical-align: middle;\n",
              "    }\n",
              "\n",
              "    .dataframe tbody tr th {\n",
              "        vertical-align: top;\n",
              "    }\n",
              "\n",
              "    .dataframe thead th {\n",
              "        text-align: right;\n",
              "    }\n",
              "</style>\n",
              "<table border=\"1\" class=\"dataframe\">\n",
              "  <thead>\n",
              "    <tr style=\"text-align: right;\">\n",
              "      <th></th>\n",
              "      <th>f0</th>\n",
              "      <th>f1</th>\n",
              "      <th>f2</th>\n",
              "      <th>product</th>\n",
              "    </tr>\n",
              "  </thead>\n",
              "  <tbody>\n",
              "    <tr>\n",
              "      <th>count</th>\n",
              "      <td>100000.000000</td>\n",
              "      <td>100000.000000</td>\n",
              "      <td>100000.000000</td>\n",
              "      <td>100000.000000</td>\n",
              "    </tr>\n",
              "    <tr>\n",
              "      <th>mean</th>\n",
              "      <td>0.002023</td>\n",
              "      <td>-0.002081</td>\n",
              "      <td>2.495128</td>\n",
              "      <td>95.000000</td>\n",
              "    </tr>\n",
              "    <tr>\n",
              "      <th>std</th>\n",
              "      <td>1.732045</td>\n",
              "      <td>1.730417</td>\n",
              "      <td>3.473445</td>\n",
              "      <td>44.749921</td>\n",
              "    </tr>\n",
              "    <tr>\n",
              "      <th>min</th>\n",
              "      <td>-8.760004</td>\n",
              "      <td>-7.084020</td>\n",
              "      <td>-11.970335</td>\n",
              "      <td>0.000000</td>\n",
              "    </tr>\n",
              "    <tr>\n",
              "      <th>25%</th>\n",
              "      <td>-1.162288</td>\n",
              "      <td>-1.174820</td>\n",
              "      <td>0.130359</td>\n",
              "      <td>59.450441</td>\n",
              "    </tr>\n",
              "    <tr>\n",
              "      <th>50%</th>\n",
              "      <td>0.009424</td>\n",
              "      <td>-0.009482</td>\n",
              "      <td>2.484236</td>\n",
              "      <td>94.925613</td>\n",
              "    </tr>\n",
              "    <tr>\n",
              "      <th>75%</th>\n",
              "      <td>1.158535</td>\n",
              "      <td>1.163678</td>\n",
              "      <td>4.858794</td>\n",
              "      <td>130.595027</td>\n",
              "    </tr>\n",
              "    <tr>\n",
              "      <th>max</th>\n",
              "      <td>7.238262</td>\n",
              "      <td>7.844801</td>\n",
              "      <td>16.739402</td>\n",
              "      <td>190.029838</td>\n",
              "    </tr>\n",
              "  </tbody>\n",
              "</table>\n",
              "</div>"
            ],
            "text/plain": [
              "                  f0             f1             f2        product\n",
              "count  100000.000000  100000.000000  100000.000000  100000.000000\n",
              "mean        0.002023      -0.002081       2.495128      95.000000\n",
              "std         1.732045       1.730417       3.473445      44.749921\n",
              "min        -8.760004      -7.084020     -11.970335       0.000000\n",
              "25%        -1.162288      -1.174820       0.130359      59.450441\n",
              "50%         0.009424      -0.009482       2.484236      94.925613\n",
              "75%         1.158535       1.163678       4.858794     130.595027\n",
              "max         7.238262       7.844801      16.739402     190.029838"
            ]
          },
          "execution_count": 18,
          "metadata": {},
          "output_type": "execute_result"
        }
      ],
      "source": [
        "region_3.describe()"
      ]
    },
    {
      "cell_type": "code",
      "execution_count": null,
      "metadata": {
        "id": "J1Qt7U4nPKfk",
        "outputId": "ed304d26-16fe-451a-ec7b-653040420e16"
      },
      "outputs": [
        {
          "data": {
            "image/png": "[encoded data removed]",
            "text/plain": [
              "<Figure size 720x432 with 4 Axes>"
            ]
          },
          "metadata": {
            "needs_background": "light"
          },
          "output_type": "display_data"
        }
      ],
      "source": [
        "hist(region_3, 'Región 3', 10)"
      ]
    },
    {
      "cell_type": "markdown",
      "metadata": {
        "id": "hVB7x7EfPKfk"
      },
      "source": [
        "En la REGIÓN 3 podemos observar una distribución similar a una normal para nuestras cuatro variables continuas, especialmente para las variables `f0` y `f1`, en las que se registra una mínima diferencia entre la media y la mediana; sin embargo, se puede establecer una ligera asimetría positiva tanto para `f0` como para `f1`. En la variable `f2` también se registra una asimetría positiva, con una media mayor a la mediana. Finalmente, para la variable `product` observamos un ligero sesgo hacia la derecha de nuestros datos, con un volumen promedio de 95 mil barriles para la región 3.\n",
        "\n",
        "A continuación, realizaremos una análisis de correlación entre las variables de las tres regiones para establecer aquellas variables que presentan una mayor correlación con nuestra variable de interés `product`, para esto llamaremos a la función `corr` en nuestros tres datasets."
      ]
    },
    {
      "cell_type": "code",
      "execution_count": null,
      "metadata": {
        "id": "qV-jnyqdPKfk",
        "outputId": "c927f57e-aa2f-41c8-cc0a-0ff9e339109d"
      },
      "outputs": [
        {
          "data": {
            "text/html": [
              "<div>\n",
              "<style scoped>\n",
              "    .dataframe tbody tr th:only-of-type {\n",
              "        vertical-align: middle;\n",
              "    }\n",
              "\n",
              "    .dataframe tbody tr th {\n",
              "        vertical-align: top;\n",
              "    }\n",
              "\n",
              "    .dataframe thead th {\n",
              "        text-align: right;\n",
              "    }\n",
              "</style>\n",
              "<table border=\"1\" class=\"dataframe\">\n",
              "  <thead>\n",
              "    <tr style=\"text-align: right;\">\n",
              "      <th></th>\n",
              "      <th>f0</th>\n",
              "      <th>f1</th>\n",
              "      <th>f2</th>\n",
              "      <th>product</th>\n",
              "    </tr>\n",
              "  </thead>\n",
              "  <tbody>\n",
              "    <tr>\n",
              "      <th>f0</th>\n",
              "      <td>1.000000</td>\n",
              "      <td>-0.440723</td>\n",
              "      <td>-0.003153</td>\n",
              "      <td>0.143536</td>\n",
              "    </tr>\n",
              "    <tr>\n",
              "      <th>f1</th>\n",
              "      <td>-0.440723</td>\n",
              "      <td>1.000000</td>\n",
              "      <td>0.001724</td>\n",
              "      <td>-0.192356</td>\n",
              "    </tr>\n",
              "    <tr>\n",
              "      <th>f2</th>\n",
              "      <td>-0.003153</td>\n",
              "      <td>0.001724</td>\n",
              "      <td>1.000000</td>\n",
              "      <td>0.483663</td>\n",
              "    </tr>\n",
              "    <tr>\n",
              "      <th>product</th>\n",
              "      <td>0.143536</td>\n",
              "      <td>-0.192356</td>\n",
              "      <td>0.483663</td>\n",
              "      <td>1.000000</td>\n",
              "    </tr>\n",
              "  </tbody>\n",
              "</table>\n",
              "</div>"
            ],
            "text/plain": [
              "               f0        f1        f2   product\n",
              "f0       1.000000 -0.440723 -0.003153  0.143536\n",
              "f1      -0.440723  1.000000  0.001724 -0.192356\n",
              "f2      -0.003153  0.001724  1.000000  0.483663\n",
              "product  0.143536 -0.192356  0.483663  1.000000"
            ]
          },
          "execution_count": 20,
          "metadata": {},
          "output_type": "execute_result"
        }
      ],
      "source": [
        "region_1.corr()"
      ]
    },
    {
      "cell_type": "markdown",
      "metadata": {
        "id": "pgjm4GcsPKfk"
      },
      "source": [
        "En la REGIÓN 1 observamos una correlación positiva moderada a fuerte entre la variable `f2` y `product`, lo que indica que al incremento de f2, incrementa el volumen de petróleo en las reservas. También observamos una correlación positiva de moderada a baja con la variable `f0` y `product`. Por otro lado, existe una correlación negativa de moderada a débil entre `f1` y el volumen de producto. Finalmente, encontramos una correlación negativa moderada a fuerte entre `f1` y `f0`, y las correlaciones restantes son cercanas a cero, lo que indica una correlación pero no de forma lineal entre las variables."
      ]
    },
    {
      "cell_type": "code",
      "execution_count": null,
      "metadata": {
        "id": "aHV3ht_CPKfl",
        "outputId": "d989e243-0f3f-4cd2-ca4b-9d58b625282b"
      },
      "outputs": [
        {
          "data": {
            "text/html": [
              "<div>\n",
              "<style scoped>\n",
              "    .dataframe tbody tr th:only-of-type {\n",
              "        vertical-align: middle;\n",
              "    }\n",
              "\n",
              "    .dataframe tbody tr th {\n",
              "        vertical-align: top;\n",
              "    }\n",
              "\n",
              "    .dataframe thead th {\n",
              "        text-align: right;\n",
              "    }\n",
              "</style>\n",
              "<table border=\"1\" class=\"dataframe\">\n",
              "  <thead>\n",
              "    <tr style=\"text-align: right;\">\n",
              "      <th></th>\n",
              "      <th>f0</th>\n",
              "      <th>f1</th>\n",
              "      <th>f2</th>\n",
              "      <th>product</th>\n",
              "    </tr>\n",
              "  </thead>\n",
              "  <tbody>\n",
              "    <tr>\n",
              "      <th>f0</th>\n",
              "      <td>1.000000</td>\n",
              "      <td>0.182287</td>\n",
              "      <td>-0.001777</td>\n",
              "      <td>-0.030491</td>\n",
              "    </tr>\n",
              "    <tr>\n",
              "      <th>f1</th>\n",
              "      <td>0.182287</td>\n",
              "      <td>1.000000</td>\n",
              "      <td>-0.002595</td>\n",
              "      <td>-0.010155</td>\n",
              "    </tr>\n",
              "    <tr>\n",
              "      <th>f2</th>\n",
              "      <td>-0.001777</td>\n",
              "      <td>-0.002595</td>\n",
              "      <td>1.000000</td>\n",
              "      <td>0.999397</td>\n",
              "    </tr>\n",
              "    <tr>\n",
              "      <th>product</th>\n",
              "      <td>-0.030491</td>\n",
              "      <td>-0.010155</td>\n",
              "      <td>0.999397</td>\n",
              "      <td>1.000000</td>\n",
              "    </tr>\n",
              "  </tbody>\n",
              "</table>\n",
              "</div>"
            ],
            "text/plain": [
              "               f0        f1        f2   product\n",
              "f0       1.000000  0.182287 -0.001777 -0.030491\n",
              "f1       0.182287  1.000000 -0.002595 -0.010155\n",
              "f2      -0.001777 -0.002595  1.000000  0.999397\n",
              "product -0.030491 -0.010155  0.999397  1.000000"
            ]
          },
          "execution_count": 21,
          "metadata": {},
          "output_type": "execute_result"
        }
      ],
      "source": [
        "region_2.corr()"
      ]
    },
    {
      "cell_type": "markdown",
      "metadata": {
        "id": "uUkFy2l_PKfo"
      },
      "source": [
        "\n",
        "\n",
        "Para la REGIÓN 2 encontramos una correlación fuerte entre la variable `f2` y `product`, de 0.999, lo que confirma una alta correlación lineal, por lo que al incrementar `f2`, incrementará `product`; quizás esto esté relacionado con las distribuciones no normales de ambas variables al analizar sus histogramas de frecuencias en este región. Finalizamos, registrando una correlación positiva de moderada a baja para las variables `f1` y `f0`, las correlaciones restantes son cercanas a cero."
      ]
    },
    {
      "cell_type": "code",
      "execution_count": null,
      "metadata": {
        "id": "SYuOoSnfPKfo",
        "outputId": "a6dedea4-d824-44ab-b5f3-65f17765e89d"
      },
      "outputs": [
        {
          "data": {
            "text/html": [
              "<div>\n",
              "<style scoped>\n",
              "    .dataframe tbody tr th:only-of-type {\n",
              "        vertical-align: middle;\n",
              "    }\n",
              "\n",
              "    .dataframe tbody tr th {\n",
              "        vertical-align: top;\n",
              "    }\n",
              "\n",
              "    .dataframe thead th {\n",
              "        text-align: right;\n",
              "    }\n",
              "</style>\n",
              "<table border=\"1\" class=\"dataframe\">\n",
              "  <thead>\n",
              "    <tr style=\"text-align: right;\">\n",
              "      <th></th>\n",
              "      <th>f0</th>\n",
              "      <th>f1</th>\n",
              "      <th>f2</th>\n",
              "      <th>product</th>\n",
              "    </tr>\n",
              "  </thead>\n",
              "  <tbody>\n",
              "    <tr>\n",
              "      <th>f0</th>\n",
              "      <td>1.000000</td>\n",
              "      <td>0.000528</td>\n",
              "      <td>-0.000448</td>\n",
              "      <td>-0.001987</td>\n",
              "    </tr>\n",
              "    <tr>\n",
              "      <th>f1</th>\n",
              "      <td>0.000528</td>\n",
              "      <td>1.000000</td>\n",
              "      <td>0.000779</td>\n",
              "      <td>-0.001012</td>\n",
              "    </tr>\n",
              "    <tr>\n",
              "      <th>f2</th>\n",
              "      <td>-0.000448</td>\n",
              "      <td>0.000779</td>\n",
              "      <td>1.000000</td>\n",
              "      <td>0.445871</td>\n",
              "    </tr>\n",
              "    <tr>\n",
              "      <th>product</th>\n",
              "      <td>-0.001987</td>\n",
              "      <td>-0.001012</td>\n",
              "      <td>0.445871</td>\n",
              "      <td>1.000000</td>\n",
              "    </tr>\n",
              "  </tbody>\n",
              "</table>\n",
              "</div>"
            ],
            "text/plain": [
              "               f0        f1        f2   product\n",
              "f0       1.000000  0.000528 -0.000448 -0.001987\n",
              "f1       0.000528  1.000000  0.000779 -0.001012\n",
              "f2      -0.000448  0.000779  1.000000  0.445871\n",
              "product -0.001987 -0.001012  0.445871  1.000000"
            ]
          },
          "execution_count": 22,
          "metadata": {},
          "output_type": "execute_result"
        }
      ],
      "source": [
        "region_3.corr()"
      ]
    },
    {
      "cell_type": "markdown",
      "metadata": {
        "id": "KwidJbabPKfo"
      },
      "source": [
        "En la región 3, observamos una alta correlación positiva entre la variable `f2` y `product`, de 0.44, lo que indica que mientras mayor sea esta característica geológica, incrementará el volumen de petróleo encontrado en los diferente pozos de esta región. Este patrón se observa en las tres regiones estudiadas, por lo que `f2` será una característica importante al construir nuestro modelo. Finalmente, no se observa una correlación lineal fuerte entre las otras variables de la región 3."
      ]
    },
    {
      "cell_type": "markdown",
      "metadata": {
        "id": "5aa0uR8QPKfo"
      },
      "source": [
        "### Conclusiones\n",
        "\n",
        "1. Se importaron los datasets para las tres regiones de estudio, y se realizó una exploración inicial de los datos, en la cual no se registró valores ausentes ni duplicados en ninguno de los tres conjuntos de datos. A su vez, los tipos de datos registrados fueron los correctos, así que no necesitarán una corrección posterior.\n",
        "2. Se realizó una análisis exploratorio de las variables numéricas en los tres dataset,  y se observó un comportamiento similar de los datos para la Región 1 y 3, con un volumen promedio superior a los 90 mil barriles para las dos regiones. Mientras que para la Región 2 se observó una distribución diferente de las variables, y el volumen promedio de reservas fue de 68 miles de barriles para esta región.\n",
        "3. Se encontró una correlación positiva fuerte entre la variable `f2` y la variable `product` en las tres regiones, con una mayor correlación en la región 2, por lo que `f2` será una variable o característica importante al construir nuestro modelo de machine learning.\n"
      ]
    },
    {
      "cell_type": "markdown",
      "metadata": {
        "id": "AwsbDTNzPKfp"
      },
      "source": [
        "<div class=\"alert alert-block alert-success\">\n",
        "<b>Comentario del revisor</b> <a class=\"tocSkip\"></a>\n",
        "    \n",
        "Excelente trabajo en esta sección. Al igual que en el comentario anterior podría sugerirte la creación de una función y sumarle un bucle para obtener los mismos resultados pero en menos líneas de código. No obstante, la forma en que lo presentas tiene una alta legibilidad y facilitará la lectura de personas externas.\n",
        "</div>"
      ]
    },
    {
      "cell_type": "markdown",
      "metadata": {
        "id": "luE86npjPKfp"
      },
      "source": [
        "## Preparación de datos fuente\n",
        "\n",
        "La empresa OilyGiant busca generar un modelo para predecir la región que mayor margen de ganancias genere, así que construiremos un modelo que prediga el volumen de reservas para cada región. Se trabajará con un modelo de aprendizaje supervisado con un objetivo de tipo numérico, en este caso las características serán las variables `f0`, `f1`, `f2` y el objetivo a partir del cual se realizarán predicciones, será la variable `product`.\n",
        "\n",
        "A continuación preparemos los datos para la construcción de nuestro modelo."
      ]
    },
    {
      "cell_type": "markdown",
      "metadata": {
        "id": "7SD8l5g0PKfp"
      },
      "source": [
        "### Eliminación columna `id`\n",
        "\n",
        "Iniciaremos con la eliminación de la columna `id` que no será necesaria para la construcción de nuestro modelo predictivo ya que solo guarda información sobre la identificación de cada pozo en las diferentes regiones. Simplemente aplicaremos drop y pasaremos como argumento el nombre de la columna."
      ]
    },
    {
      "cell_type": "code",
      "execution_count": null,
      "metadata": {
        "id": "KEknUmMCPKfp"
      },
      "outputs": [],
      "source": [
        "region_1 = region_1.drop('id', axis=1)\n",
        "\n",
        "region_2 = region_2.drop('id', axis=1)\n",
        "\n",
        "region_3 = region_3.drop('id', axis=1)"
      ]
    },
    {
      "cell_type": "markdown",
      "metadata": {
        "id": "aMLEV_VDPKfp"
      },
      "source": [
        "### Estandarización de datos\n",
        "\n",
        "Continuamos con la estandarización de características numéricas, esto se realiza para evitar que el algoritmo determine que una característica es más importante que la otra, al escalar los valores numéricos todas las características son igualmente importantes durante la ejecución del algoritmo. Para esto utilizaremos StandardScaler de la librería Scikit-Learn que ayuda a obtener una distribución estandarizada, con una media de cero y una desviación estándar de uno."
      ]
    },
    {
      "cell_type": "code",
      "execution_count": null,
      "metadata": {
        "id": "Dasbl8PrPKfp"
      },
      "outputs": [],
      "source": [
        "# Guardamos las características numéricas en la variable numeric_data\n",
        "numeric_data = ['f0', 'f1', 'f2']"
      ]
    },
    {
      "cell_type": "code",
      "execution_count": null,
      "metadata": {
        "id": "Uw9V0QszPKfp"
      },
      "outputs": [],
      "source": [
        "# Guardamos StandardScaler en la variable scaler\n",
        "scaler = StandardScaler()"
      ]
    },
    {
      "cell_type": "markdown",
      "metadata": {
        "id": "KiK9orY-PKfp"
      },
      "source": [
        "**REGIÓN 1**"
      ]
    },
    {
      "cell_type": "code",
      "execution_count": null,
      "metadata": {
        "id": "OjIvBQMsPKfp",
        "outputId": "61639978-23b1-427f-dd3a-f9b2e634a5e9"
      },
      "outputs": [
        {
          "data": {
            "text/html": [
              "<div>\n",
              "<style scoped>\n",
              "    .dataframe tbody tr th:only-of-type {\n",
              "        vertical-align: middle;\n",
              "    }\n",
              "\n",
              "    .dataframe tbody tr th {\n",
              "        vertical-align: top;\n",
              "    }\n",
              "\n",
              "    .dataframe thead th {\n",
              "        text-align: right;\n",
              "    }\n",
              "</style>\n",
              "<table border=\"1\" class=\"dataframe\">\n",
              "  <thead>\n",
              "    <tr style=\"text-align: right;\">\n",
              "      <th></th>\n",
              "      <th>variable_1</th>\n",
              "      <th>mean_1</th>\n",
              "      <th>std_1</th>\n",
              "    </tr>\n",
              "  </thead>\n",
              "  <tbody>\n",
              "    <tr>\n",
              "      <th>0</th>\n",
              "      <td>f0</td>\n",
              "      <td>0.0</td>\n",
              "      <td>1.0</td>\n",
              "    </tr>\n",
              "    <tr>\n",
              "      <th>1</th>\n",
              "      <td>f1</td>\n",
              "      <td>-0.0</td>\n",
              "      <td>1.0</td>\n",
              "    </tr>\n",
              "    <tr>\n",
              "      <th>2</th>\n",
              "      <td>f2</td>\n",
              "      <td>0.0</td>\n",
              "      <td>1.0</td>\n",
              "    </tr>\n",
              "  </tbody>\n",
              "</table>\n",
              "</div>"
            ],
            "text/plain": [
              "  variable_1  mean_1  std_1\n",
              "0         f0     0.0    1.0\n",
              "1         f1    -0.0    1.0\n",
              "2         f2     0.0    1.0"
            ]
          },
          "execution_count": 26,
          "metadata": {},
          "output_type": "execute_result"
        }
      ],
      "source": [
        "# Ajustamos con las características numéricas de la región 1\n",
        "scaler.fit(region_1[numeric_data])\n",
        "\n",
        "# Transformamos las características numéricas con transform\n",
        "region_1[numeric_data] = scaler.transform(region_1[numeric_data])\n",
        "\n",
        "# Comprobamos la estandarización con la media y desviación estándar de cada característica\n",
        "pd.DataFrame({\n",
        "    'variable_1': ['f0', 'f1', 'f2'],\n",
        "    'mean_1': [region_1['f0'].mean().round(), region_1['f1'].mean().round(), region_1['f2'].mean().round()],\n",
        "    'std_1': [region_1['f0'].std().round(), region_1['f1'].std().round(),region_1['f2'].std().round()]\n",
        "\n",
        "})"
      ]
    },
    {
      "cell_type": "markdown",
      "metadata": {
        "id": "Ru17cgKLPKfq"
      },
      "source": [
        "**REGIÓN 2**"
      ]
    },
    {
      "cell_type": "code",
      "execution_count": null,
      "metadata": {
        "id": "rQ6ln7NyPKfr",
        "outputId": "7a7b1b28-3bbd-406c-8bac-2d3b5ee49d4b"
      },
      "outputs": [
        {
          "data": {
            "text/html": [
              "<div>\n",
              "<style scoped>\n",
              "    .dataframe tbody tr th:only-of-type {\n",
              "        vertical-align: middle;\n",
              "    }\n",
              "\n",
              "    .dataframe tbody tr th {\n",
              "        vertical-align: top;\n",
              "    }\n",
              "\n",
              "    .dataframe thead th {\n",
              "        text-align: right;\n",
              "    }\n",
              "</style>\n",
              "<table border=\"1\" class=\"dataframe\">\n",
              "  <thead>\n",
              "    <tr style=\"text-align: right;\">\n",
              "      <th></th>\n",
              "      <th>variable_2</th>\n",
              "      <th>mean_2</th>\n",
              "      <th>std_2</th>\n",
              "    </tr>\n",
              "  </thead>\n",
              "  <tbody>\n",
              "    <tr>\n",
              "      <th>0</th>\n",
              "      <td>f0</td>\n",
              "      <td>-0.0</td>\n",
              "      <td>1.0</td>\n",
              "    </tr>\n",
              "    <tr>\n",
              "      <th>1</th>\n",
              "      <td>f1</td>\n",
              "      <td>0.0</td>\n",
              "      <td>1.0</td>\n",
              "    </tr>\n",
              "    <tr>\n",
              "      <th>2</th>\n",
              "      <td>f2</td>\n",
              "      <td>0.0</td>\n",
              "      <td>1.0</td>\n",
              "    </tr>\n",
              "  </tbody>\n",
              "</table>\n",
              "</div>"
            ],
            "text/plain": [
              "  variable_2  mean_2  std_2\n",
              "0         f0    -0.0    1.0\n",
              "1         f1     0.0    1.0\n",
              "2         f2     0.0    1.0"
            ]
          },
          "execution_count": 27,
          "metadata": {},
          "output_type": "execute_result"
        }
      ],
      "source": [
        "# Ajustamos con las características numéricas de la región 2\n",
        "scaler.fit(region_2[numeric_data])\n",
        "\n",
        "# Transformamos las características numéricas con transform\n",
        "region_2[numeric_data] = scaler.transform(region_2[numeric_data])\n",
        "\n",
        "# Comprobamos la estandarización con la media y desviación estándar de cada característica\n",
        "pd.DataFrame({\n",
        "    'variable_2': ['f0', 'f1', 'f2'],\n",
        "    'mean_2': [region_2['f0'].mean().round(), region_2['f1'].mean().round(), region_2['f2'].mean().round()],\n",
        "    'std_2': [region_2['f0'].std().round(), region_2['f1'].std().round(),region_2['f2'].std().round()]\n",
        "\n",
        "})"
      ]
    },
    {
      "cell_type": "markdown",
      "metadata": {
        "id": "2psR0sACPKfr"
      },
      "source": [
        "**REGIÓN 3**"
      ]
    },
    {
      "cell_type": "code",
      "execution_count": null,
      "metadata": {
        "id": "N7Lyi0cuPKfr",
        "outputId": "6163996c-ef5b-4091-ea14-39b1bf033cc2"
      },
      "outputs": [
        {
          "data": {
            "text/html": [
              "<div>\n",
              "<style scoped>\n",
              "    .dataframe tbody tr th:only-of-type {\n",
              "        vertical-align: middle;\n",
              "    }\n",
              "\n",
              "    .dataframe tbody tr th {\n",
              "        vertical-align: top;\n",
              "    }\n",
              "\n",
              "    .dataframe thead th {\n",
              "        text-align: right;\n",
              "    }\n",
              "</style>\n",
              "<table border=\"1\" class=\"dataframe\">\n",
              "  <thead>\n",
              "    <tr style=\"text-align: right;\">\n",
              "      <th></th>\n",
              "      <th>variable_3</th>\n",
              "      <th>mean_3</th>\n",
              "      <th>std_3</th>\n",
              "    </tr>\n",
              "  </thead>\n",
              "  <tbody>\n",
              "    <tr>\n",
              "      <th>0</th>\n",
              "      <td>f0</td>\n",
              "      <td>0.0</td>\n",
              "      <td>1.0</td>\n",
              "    </tr>\n",
              "    <tr>\n",
              "      <th>1</th>\n",
              "      <td>f1</td>\n",
              "      <td>-0.0</td>\n",
              "      <td>1.0</td>\n",
              "    </tr>\n",
              "    <tr>\n",
              "      <th>2</th>\n",
              "      <td>f2</td>\n",
              "      <td>-0.0</td>\n",
              "      <td>1.0</td>\n",
              "    </tr>\n",
              "  </tbody>\n",
              "</table>\n",
              "</div>"
            ],
            "text/plain": [
              "  variable_3  mean_3  std_3\n",
              "0         f0     0.0    1.0\n",
              "1         f1    -0.0    1.0\n",
              "2         f2    -0.0    1.0"
            ]
          },
          "execution_count": 28,
          "metadata": {},
          "output_type": "execute_result"
        }
      ],
      "source": [
        "# Ajustamos con las características numéricas de la región 3\n",
        "scaler.fit(region_3[numeric_data])\n",
        "\n",
        "# Transformamos las características numéricas con transform\n",
        "region_3[numeric_data] = scaler.transform(region_3[numeric_data])\n",
        "\n",
        "# Comprobamos la estandarización con la media y desviación estándar de cada característica\n",
        "pd.DataFrame({\n",
        "    'variable_3': ['f0', 'f1', 'f2'],\n",
        "    'mean_3': [region_3['f0'].mean().round(), region_3['f1'].mean().round(), region_3['f2'].mean().round()],\n",
        "    'std_3': [region_3['f0'].std().round(), region_3['f1'].std().round(),region_3['f2'].std().round()]\n",
        "\n",
        "})"
      ]
    },
    {
      "cell_type": "markdown",
      "metadata": {
        "id": "Xd6hApkvPKfs"
      },
      "source": [
        "Las características de las tres regiones han sido correctamente estandarizadas presentando una desviación estándar de 1 y una media de 0."
      ]
    },
    {
      "cell_type": "markdown",
      "metadata": {
        "id": "GB9gUZnXPKfs"
      },
      "source": [
        "### Segmentación de datos fuente\n",
        "\n",
        "Una vez estandarizadas nuestras características numéricas y eliminadas las características que no serán necesarias para la construcción de nuestro modelo predictivo. Procedemos a la segmentación de datos fuente, en este caso se recomienda dividir los datos en un conjunto de entrenamiento y uno de validación, por lo que la proporción recomendada será de 75:25, el 75% para el entrenamiento y 25% para la validación.\n",
        "\n",
        "Para realizar esta división vamos a crear la función `split_dataset` que tomará los datos de cada región y los dividirá en conjuntos de entrenamiento y validación. En primer lugar, la función establecerá las características y objetivo de cada región, para las características se utilizará la función drop en la columna `product`, y para el objetivo se llamará a `product` de cada región. Posteriormente, se utilizará la función para obtener las características y objetivo en el conjunto de entrenamiento y validación, para lo cual se establecerá test_size en 0.25 y random_state en 12345. La función solo requerirá de un argumento:\n",
        "\n",
        "- `region`: el dataset de cada región."
      ]
    },
    {
      "cell_type": "code",
      "execution_count": null,
      "metadata": {
        "id": "ptP9S9ZVPKfs"
      },
      "outputs": [],
      "source": [
        "def split_dataset(region):\n",
        "    # Establecemos las características y objetivo de cada región\n",
        "    features = region.drop('product', axis=1)\n",
        "    target = region['product']\n",
        "\n",
        "    # Dividimos el conjunto de validación y entrenamiento con la función train_test_split\n",
        "    features_train, features_valid, target_train, target_valid = train_test_split(features,\n",
        "                                                                                       target,\n",
        "                                                                                       test_size=0.25,\n",
        "                                                                                      random_state=12345)\n",
        "    # Devolvemos las característcas y objetivo del conjunto de validación y entrenamiento\n",
        "    return features_train, features_valid, target_train, target_valid\n"
      ]
    },
    {
      "cell_type": "markdown",
      "metadata": {
        "id": "xwNaOmavPKfs"
      },
      "source": [
        "Una vez establecida nuestra función `split_dataset` vamos a aplicar la función a cada región y guardaremos los nuevos conjuntos de datos en las variables `features_train` y `target_train` para el conjunto de entrenamiento, y `features_valid` y `target_valid` para el conjunto de validación. Finalmente comprobaremos que se haya dividido correctamente cada dataset llamando al atributo shape en cada variable de cada región."
      ]
    },
    {
      "cell_type": "code",
      "execution_count": null,
      "metadata": {
        "id": "tTeNf--RPKfs",
        "outputId": "e3c0c20b-1162-436b-f950-37fc5e79b18e"
      },
      "outputs": [
        {
          "name": "stdout",
          "output_type": "stream",
          "text": [
            "REGIÓN 1 TAMAÑO DATOS\n",
            "======================\n",
            "Características conjunto de entrenamiento: (75000, 3)\n",
            "Objetivo conjunto de entrenamiento: (75000,)\n",
            "Características conjunto de validación: (25000, 3)\n",
            "Objetivo conjunto de validación: (25000,)\n",
            "\n"
          ]
        }
      ],
      "source": [
        "# Dividimos en conjunto de entrenamiento y validación a la region 1\n",
        "features_train_1, features_valid_1, target_train_1, target_valid_1 = split_dataset(region_1)\n",
        "\n",
        "# Comprobamos que la división sea correcta.\n",
        "print(\n",
        "f'''REGIÓN 1 TAMAÑO DATOS\n",
        "======================\n",
        "Características conjunto de entrenamiento: {features_train_1.shape}\n",
        "Objetivo conjunto de entrenamiento: {target_train_1.shape}\n",
        "Características conjunto de validación: {features_valid_1.shape}\n",
        "Objetivo conjunto de validación: {target_valid_1.shape}\n",
        "''')"
      ]
    },
    {
      "cell_type": "code",
      "execution_count": null,
      "metadata": {
        "id": "PnG8m-LLPKft",
        "outputId": "742095b2-d1e0-4f2b-da9e-99ba19501b82"
      },
      "outputs": [
        {
          "name": "stdout",
          "output_type": "stream",
          "text": [
            "REGIÓN 2 TAMAÑO DATOS\n",
            "======================\n",
            "Características conjunto de entrenamiento: (75000, 3)\n",
            "Objetivo conjunto de entrenamiento: (75000,)\n",
            "Características conjunto de validación: (25000, 3)\n",
            "Objetivo conjunto de validación: (25000,)\n",
            "\n"
          ]
        }
      ],
      "source": [
        "# Dividimos en conjunto de entrenamiento y validación a la region 2\n",
        "features_train_2, features_valid_2, target_train_2, target_valid_2 = split_dataset(region_2)\n",
        "\n",
        "# Comprobamos que la división sea correcta.\n",
        "print(\n",
        "f'''REGIÓN 2 TAMAÑO DATOS\n",
        "======================\n",
        "Características conjunto de entrenamiento: {features_train_2.shape}\n",
        "Objetivo conjunto de entrenamiento: {target_train_2.shape}\n",
        "Características conjunto de validación: {features_valid_2.shape}\n",
        "Objetivo conjunto de validación: {target_valid_2.shape}\n",
        "''')"
      ]
    },
    {
      "cell_type": "code",
      "execution_count": null,
      "metadata": {
        "id": "bfYaf1RGPKft",
        "outputId": "17b02744-52f9-4a01-bfa3-f32123089524"
      },
      "outputs": [
        {
          "name": "stdout",
          "output_type": "stream",
          "text": [
            "REGIÓN 3 TAMAÑO DATOS\n",
            "======================\n",
            "Características conjunto de entrenamiento: (75000, 3)\n",
            "Objetivo conjunto de entrenamiento: (75000,)\n",
            "Características conjunto de validación: (25000, 3)\n",
            "Objetivo conjunto de validación: (25000,)\n",
            "\n"
          ]
        }
      ],
      "source": [
        "# Dividimos en conjunto de entrenamiento y validación a la region 2\n",
        "features_train_3, features_valid_3, target_train_3, target_valid_3 = split_dataset(region_3)\n",
        "\n",
        "# Comprobamos que la división sea correcta.\n",
        "print(\n",
        "f'''REGIÓN 3 TAMAÑO DATOS\n",
        "======================\n",
        "Características conjunto de entrenamiento: {features_train_3.shape}\n",
        "Objetivo conjunto de entrenamiento: {target_train_3.shape}\n",
        "Características conjunto de validación: {features_valid_3.shape}\n",
        "Objetivo conjunto de validación: {target_valid_3.shape}\n",
        "''')"
      ]
    },
    {
      "cell_type": "markdown",
      "metadata": {
        "id": "WsJDLyKKPKft"
      },
      "source": [
        "Se comprueba que el conjunto de entrenamiento presenta 75000 observaciones y el conjunto de validación 25000 en las tres regiones, esto corresponde con la proporción de 75:25 que se estableció desde un inicio, así que concluimos que la segmentación de datos fuente para las tres regiones ha sido realizada correctamente."
      ]
    },
    {
      "cell_type": "markdown",
      "metadata": {
        "id": "iPMfuJZpPKft"
      },
      "source": [
        "<div class=\"alert alert-block alert-success\">\n",
        "<b>Comentario del revisor</b> <a class=\"tocSkip\"></a>\n",
        "    \n",
        "Buen trabajo.\n",
        "</div>"
      ]
    },
    {
      "cell_type": "markdown",
      "metadata": {
        "id": "oaYRcrvaPKft"
      },
      "source": [
        "## Entrenamiento del modelo\n",
        "\n",
        "Con la correcta segmentación de nuestros conjuntos de datos de las tres regiones, procedemos a entrenar nuestro modelo. En este proyecto se realizará un modelo de regresión lineal ya que es el algoritmo de aprendizaje más adecuado para nuestros datos, el resto de algoritmos no son lo suficientemente predecibles. Debemos entrenar los tres conjuntos de datos, así que construiremos una función `linear_regression`, que tomará los conjuntos de entrenamiento y validación de cada región y construirá un modelo de regresion lineal. La función constará de los siguientes argumentos:\n",
        "\n",
        "- `features_train:` características conjunto de entrenamiento\n",
        "- `target_train:` objetivo conjunto de entrenamiento\n",
        "- `features_valid:` características conjunto de validación\n",
        "- `target_valid:` objetivo conjunto de validación\n",
        "\n",
        "La función entrenará el modelo con los conjuntos de entrenamiento de las tres regiones y devolverá las predicciones en base al conjunto de validación `predictions_valid`,  el volumen promedio de reservas previstas `volume_mean`, la raíz del error cuadrático medio `RECM` y el coeficiente de determinación `R2`."
      ]
    },
    {
      "cell_type": "code",
      "execution_count": null,
      "metadata": {
        "id": "ctyhKLaSPKft"
      },
      "outputs": [],
      "source": [
        "def linear_regression(features_train, target_train, features_valid, target_valid):\n",
        "    # Entrenamos el modelo de regresión lineal con el conjunto de entrenamiento\n",
        "    model = LinearRegression()\n",
        "    model.fit(features_train, target_train)\n",
        "\n",
        "    # Guardamos las predicciones de nuestro modelo entrenado en el conjunto de validación\n",
        "    predictions_valid = model.predict(features_valid)\n",
        "\n",
        "    # Calculamos el volumen promedio, RECM y R2\n",
        "    volume_mean = predictions_valid.mean()\n",
        "    RECM = mean_squared_error(target_valid, predictions_valid)**0.5\n",
        "    R2 = model.score(features_valid, target_valid)\n",
        "\n",
        "    return volume_mean, RECM, R2, predictions_valid"
      ]
    },
    {
      "cell_type": "markdown",
      "metadata": {
        "id": "q17OKUGXPKft"
      },
      "source": [
        "Establecida nuestra función, procedemos a aplicarla en los conjuntos de entrenamiento y validación para las tres regiones, guardaremos los resultados en las variables `volumen_mean`, `RECM`, `R2` y `predictions`, con el número correspondiente dependiendo de cada región. También compararemos el volumen medio de las predicciones con el volumen medio de las respuestas correctas del conjunto de validación, los cuales se encuentran en `target_valid`."
      ]
    },
    {
      "cell_type": "code",
      "execution_count": null,
      "metadata": {
        "id": "V1csJ_YIPKfu",
        "outputId": "2ec6a0e1-5b1d-4fdc-fa8f-3ff98a574d2a"
      },
      "outputs": [
        {
          "name": "stdout",
          "output_type": "stream",
          "text": [
            "REGIÓN 1\n",
            "============================\n",
            "Volumen promedio de reservas: 92.0786\n",
            "Volumen promedio de reservas previstas: 92.5926 \n",
            "RECM: 37.5794\n",
            "R2: 0.2799\n"
          ]
        }
      ],
      "source": [
        "volume_mean_1, RECM_1, R2_1, predictions_1 = linear_regression(\n",
        "    features_train_1, target_train_1, features_valid_1, target_valid_1)\n",
        "\n",
        "print(\n",
        "f'''REGIÓN 1\n",
        "============================\n",
        "Volumen promedio de reservas: {round(target_valid_1.mean(), 4)}\n",
        "Volumen promedio de reservas previstas: {round(volume_mean_1, 4)}\n",
        "RECM: {round(RECM_1, 4)}\n",
        "R2: {round(R2_1, 4)}''')"
      ]
    },
    {
      "cell_type": "code",
      "execution_count": null,
      "metadata": {
        "id": "3MYmc6inPKfu",
        "outputId": "fba33489-4931-4b62-cc9c-593a1f7ba044"
      },
      "outputs": [
        {
          "name": "stdout",
          "output_type": "stream",
          "text": [
            "REGIÓN 2:\n",
            "============================\n",
            "Volumen promedio de reservas: 68.7231\n",
            "Volumen promedio de reservas previstas: 68.7285\n",
            "RECM: 0.8931\n",
            "R2: 0.9996\n"
          ]
        }
      ],
      "source": [
        "volume_mean_2, RECM_2, R2_2, predictions_2 = linear_regression(\n",
        "    features_train_2, target_train_2, features_valid_2, target_valid_2)\n",
        "\n",
        "print(\n",
        "f'''REGIÓN 2:\n",
        "============================\n",
        "Volumen promedio de reservas: {round(target_valid_2.mean(), 4)}\n",
        "Volumen promedio de reservas previstas: {round(volume_mean_2, 4)}\n",
        "RECM: {round(RECM_2, 4)}\n",
        "R2: {round(R2_2, 4)}''')"
      ]
    },
    {
      "cell_type": "code",
      "execution_count": null,
      "metadata": {
        "id": "4rr1avh3PKfu",
        "outputId": "1fdf6d80-de7b-408b-b589-ea207abad1ac"
      },
      "outputs": [
        {
          "name": "stdout",
          "output_type": "stream",
          "text": [
            "REGIÓN 3:\n",
            "============================\n",
            "Volumen promedio de reservas: 94.8842\n",
            "Volumen promedio de reservas previstas: 94.965\n",
            "RECM: 40.0297\n",
            "R2: 0.2052\n"
          ]
        }
      ],
      "source": [
        "volume_mean_3, RECM_3, R2_3, predictions_3 = linear_regression(\n",
        "    features_train_3, target_train_3, features_valid_3, target_valid_3)\n",
        "\n",
        "print(f'''REGIÓN 3:\n",
        "============================\n",
        "Volumen promedio de reservas: {round(target_valid_3.mean(), 4)}\n",
        "Volumen promedio de reservas previstas: {round(volume_mean_3, 4)}\n",
        "RECM: {round(RECM_3, 4)}\n",
        "R2: {round(R2_3, 4)}''')"
      ]
    },
    {
      "cell_type": "markdown",
      "metadata": {
        "id": "ensPZe4QPKfu"
      },
      "source": [
        "Al analizar los resultados de nuestros modelos para las tres regiones, podemos establecer que no existe una diferencia grande entre el volumen promedio de reservas del conjunto de validación con el volumen promedio de las predicciones realizadas por nuestros modelos. La región 2 es la que presenta el error cuádratico medio más bajo, mientras que las regiones 1 y 3 presentan un error más elevado de 37 y 40 respectivamente. Al analizar el coeficiente de determinación, la región 2 presenta el coeficiente más elevado de 0.99, lo cual indicaría un modelo casi perfecto; mientras que las regiones 1 y 3 presentan un R2 de 0.20 y 0.27, por lo que funcionan tan bien como la media.\n",
        "\n",
        "De los modelos para cada región, se puede establecer que el modelo para la región 2 es el que mejor predice el volumen de reservas, ya que presenta el error más bajo y coeficiente de determinación más alto. Sin embargo, la región 1 y 3 presentaron el volumen promedio de reservas más alto, por encima de los 90 miles de barriles."
      ]
    },
    {
      "cell_type": "markdown",
      "metadata": {
        "id": "B3jCSBrJPKfv"
      },
      "source": [
        "## Volumen de reservas en un pozo\n",
        "\n",
        "Ahora será necesario prepararnos para el cálculo de ganancias, para esto vamos a considerar las condiciones que la empres OilyGiant ha puesto para calcular el beneficio, estas son:\n",
        "\n",
        "- Al explorar la región, se lleva a cabo un estudio de 500 puntos con la selección de los mejores 200 puntos para el cálculo del beneficio.\n",
        "- El presupuesto para el desarrollo de 200 pozos petroleros es de 100 millones de dólares.\n",
        "- Un barril de materias primas genera 4.5 USD de ingresos. El ingreso de una unidad de producto es de 4500 dólares (el volumen de reservas está expresado en miles de barriles).\n",
        "\n",
        "Guardaremos la información relevante para el cálculo en las siguiente variables:\n",
        "- `points`: el número de puntos de estudio en la variable\n",
        "- `best_points`: los mejores 200 puntos o con mayor volumen de reservas\n",
        "- `budget_200`: el presupuesto para el desarrollo de 200 pozos (en dólares)\n",
        "- `revenue_per_barril`: la ganancia por barril (en dólares)\n",
        "- `renevue_per_unit`: la ganancia por unidad de producto (en dólares)"
      ]
    },
    {
      "cell_type": "code",
      "execution_count": null,
      "metadata": {
        "id": "Y7C-XPCcPKfv"
      },
      "outputs": [],
      "source": [
        "points = 500\n",
        "best_points = 200\n",
        "budget_200 = 100000000\n",
        "revenue_per_barril = 4.5\n",
        "revenue_per_unit = 4500"
      ]
    },
    {
      "cell_type": "markdown",
      "metadata": {
        "id": "-H6VdQMjPKfv"
      },
      "source": [
        "Una vez analizadas las condiciones de la empresa y almacenados los valores clave en variables separadas, vamos a proceder a calcular el volumen de reservas suficiente para desarrollar un nuevo pozo sin pérdidas. Empezaremos calculando el presupuesto necesario para el desarrollo de un pozo, para esto dividiremos el presupuesto para el desarrollo de 200 pozos `budget_200` entre los 200 mejores puntos `best_points`, guardaremos este resultado en `cost_one`."
      ]
    },
    {
      "cell_type": "code",
      "execution_count": null,
      "metadata": {
        "id": "zrsNAe_bPKfv",
        "outputId": "9fa503f7-29b3-4465-d280-10720865a954"
      },
      "outputs": [
        {
          "name": "stdout",
          "output_type": "stream",
          "text": [
            "Presupuesto para el desarrollo de un pozo: 500000.0\n"
          ]
        }
      ],
      "source": [
        "cost_one = budget_200/best_points\n",
        "print('Presupuesto para el desarrollo de un pozo:', cost_one)"
      ]
    },
    {
      "cell_type": "markdown",
      "metadata": {
        "id": "Ew80zvyFPKfv"
      },
      "source": [
        "Si consideramos que por unidad de producto (miles de barriles) se gana 4500, ahora calcularemos a partir del presupuesto de 500000 para el desarrollo de un pozo, qué volumen de reservas será necesaria para desarrollar un nuevo pozo sin pérdidas. Simplemente dividiremos `cost_one` entre `revenue_per_unit`. A su vez, calcularemos el volumen promedio de reservas para cada región y compararemos los resultados."
      ]
    },
    {
      "cell_type": "code",
      "execution_count": null,
      "metadata": {
        "id": "67F_rl9pPKfv",
        "outputId": "e55958ba-59e4-4693-848f-2300d453e887"
      },
      "outputs": [
        {
          "name": "stdout",
          "output_type": "stream",
          "text": [
            "Volumen de reservas para desarrollar un nuevo pozo sin pérdidas: 111.11\n"
          ]
        }
      ],
      "source": [
        "volume_one = cost_one/revenue_per_unit\n",
        "print('Volumen de reservas para desarrollar un nuevo pozo sin pérdidas:', round(volume_one, 2))"
      ]
    },
    {
      "cell_type": "markdown",
      "metadata": {
        "id": "gukji287PKfw"
      },
      "source": [
        "<div class=\"alert alert-block alert-success\">\n",
        "<b>Comentario del revisor</b> <a class=\"tocSkip\"></a>\n",
        "    \n",
        "Buen trabajo. Todo ha sido calculado correctamente.\n",
        "</div>"
      ]
    },
    {
      "cell_type": "code",
      "execution_count": null,
      "metadata": {
        "id": "1x9MtGMJPKfw",
        "outputId": "2aef4b23-79a9-44fb-fce3-08d548626bc4"
      },
      "outputs": [
        {
          "name": "stdout",
          "output_type": "stream",
          "text": [
            "Volumen medio de reservas Región 1: 92.5\n",
            "Volumen medio de reservas Región 2: 68.825\n",
            "Volumen medio de reservas Región 3: 95.0\n"
          ]
        }
      ],
      "source": [
        "print('Volumen medio de reservas Región 1:', round(region_1['product'].mean(), 3))\n",
        "print('Volumen medio de reservas Región 2:', round(region_2['product'].mean(), 3))\n",
        "print('Volumen medio de reservas Región 3:', round(region_3['product'].mean(), 3))"
      ]
    },
    {
      "cell_type": "markdown",
      "metadata": {
        "id": "l1DrOGDOPKfw"
      },
      "source": [
        "Se requiere de 111.11 miles de barriles para desarrollar un nuevo pozo sin pérdidas, al comparar este resultados con el volumen promedio de reservas para cada región, podemos establecer que ninguna de las tres regiones genera el volumen necesario para evitar pérdidas. En todas las regiones el coste de bienes o el presupuesto utilizado por la empresa para desarrollar pozos, va a ser mayor a las ganancias generadas por la explotación de los mismos."
      ]
    },
    {
      "cell_type": "markdown",
      "metadata": {
        "id": "MOTpbvBTPKfw"
      },
      "source": [
        "## Cálculo de ganancias para pozos seleccionados\n",
        "\n",
        "Dado que ninguna de las regiones genera un volumen promedio suficiente sin pérdidas, vamos a calcular las ganancias de un conjunto de pozos seleccionados y modelaremos las predicciones. Para lograr esto, construiremos la función `revenue` que tomará las predicciones (predictions_1, predictions_2, predictions_3) realizadas por el modelo de cada región y las ordenará en forma descendente, escogiendo aquellas predicciones con los valores más altos. Filtraremos el volumen objetivo de reservas en base a las predicciones más altas, utilizando para esto los índices de las predicciones. También estableceremos el número de pozos con los cuales se realizará el cálculo final. La función contará con los siguientes argumentos:\n",
        "\n",
        "- `target`: objeto del conjunto de validación para cada región.\n",
        "- `predictions`: predicciones realizadas por el modelo de cada región.\n",
        "- `count`: número de pozos con los cuales se calculará el beneficio.\n",
        "\n",
        "Para calcular el beneficio bruto, primero estableceremos el valor de ingresos para n pozos, para esto multiplicaremos el volumen total por las ganancias por unidad de producto `revenue_per_unit`. Luego, determinaremos el costo del desarrollo de n pozos, para lo cual multiplicaremos n pozos por el costo para el desarrollo de un pozo `cost_one`. Finalmente, restaremos el valor de ingresos de los costos de bienes."
      ]
    },
    {
      "cell_type": "code",
      "execution_count": null,
      "metadata": {
        "id": "5EBwqPRqPKfw"
      },
      "outputs": [],
      "source": [
        "def revenue(target, predictions, count):\n",
        "\n",
        "    # Tomamos las predicciones y las ordenamos de forma descendente\n",
        "    predictions_sorted = pd.Series(predictions).sort_values(ascending=False)\n",
        "    # Seleccionamos los n pozos del objetivo en base a los índices de las predicciones más altas\n",
        "    selected = target.reset_index(drop=True).iloc[predictions_sorted.index][:count]\n",
        "\n",
        "    # Calculamos el volumen total, sumando el volumen de reservas de n pozos seleccionados\n",
        "    volume_total = selected.sum()\n",
        "    # Calculamos el ingreso multiplicando el volumen total por las ganancias por unidad de producto\n",
        "    income = volume_total * revenue_per_unit\n",
        "    # Calculamos el costo por el desarrollo de n pozos, considerando que la construcción de un pozo necesita 500000\n",
        "    cost = count * cost_one\n",
        "\n",
        "    # Calculamos el beneficio bruto restando el costo de los ingresos\n",
        "    return income - cost"
      ]
    },
    {
      "cell_type": "markdown",
      "metadata": {
        "id": "rM3UrSFfPKfw"
      },
      "source": [
        "Establecida nuestra función, procedemos a calcular las ganancias para cada región, pasaremos como argumentos el objetivo de validación de cada región y sus respectivas predicciones. Tomaremos 200 pozos (mayor volumen de reservas) para realizar el cálculo, ya que OilyBank selecciona los 200 mejores puntos para calcular el beneficio."
      ]
    },
    {
      "cell_type": "code",
      "execution_count": null,
      "metadata": {
        "id": "uwpRjNeCPKfw",
        "outputId": "e181d6b3-e79d-4fe4-84ce-2738de080247"
      },
      "outputs": [
        {
          "data": {
            "text/html": [
              "<div>\n",
              "<style scoped>\n",
              "    .dataframe tbody tr th:only-of-type {\n",
              "        vertical-align: middle;\n",
              "    }\n",
              "\n",
              "    .dataframe tbody tr th {\n",
              "        vertical-align: top;\n",
              "    }\n",
              "\n",
              "    .dataframe thead th {\n",
              "        text-align: right;\n",
              "    }\n",
              "</style>\n",
              "<table border=\"1\" class=\"dataframe\">\n",
              "  <thead>\n",
              "    <tr style=\"text-align: right;\">\n",
              "      <th></th>\n",
              "      <th>region</th>\n",
              "      <th>revenue_dollars</th>\n",
              "    </tr>\n",
              "  </thead>\n",
              "  <tbody>\n",
              "    <tr>\n",
              "      <th>0</th>\n",
              "      <td>Región 1</td>\n",
              "      <td>33208260.43</td>\n",
              "    </tr>\n",
              "    <tr>\n",
              "      <th>1</th>\n",
              "      <td>Región 2</td>\n",
              "      <td>24150866.97</td>\n",
              "    </tr>\n",
              "    <tr>\n",
              "      <th>2</th>\n",
              "      <td>Región 3</td>\n",
              "      <td>27103499.64</td>\n",
              "    </tr>\n",
              "  </tbody>\n",
              "</table>\n",
              "</div>"
            ],
            "text/plain": [
              "     region  revenue_dollars\n",
              "0  Región 1      33208260.43\n",
              "1  Región 2      24150866.97\n",
              "2  Región 3      27103499.64"
            ]
          },
          "execution_count": 46,
          "metadata": {},
          "output_type": "execute_result"
        }
      ],
      "source": [
        "# Calculamos las ganancias para los 200 mejores pozos de cada región\n",
        "revenue_1 = revenue(target_valid_1, predictions_1, 200)\n",
        "revenue_2 = revenue(target_valid_2, predictions_2, 200)\n",
        "revenue_3 = revenue(target_valid_3, predictions_3, 200)\n",
        "\n",
        "# Construimos un dataframe con los resultados de ganancias por región\n",
        "revenues = pd.DataFrame({\n",
        "    'region': ['Región 1', 'Región 2', 'Región 3'],\n",
        "    'revenue_dollars': [round(revenue_1, 2), round(revenue_2, 2), round(revenue_3, 2)]\n",
        "})\n",
        "\n",
        "revenues"
      ]
    },
    {
      "cell_type": "markdown",
      "metadata": {
        "id": "RmZ1gnzCPKfx"
      },
      "source": [
        "Después de aplicar la función de ganancias a las tres regiones, se puede establecer que la región que generaría más ganancias a OilyGiant sería la región 1, generando 33 millones de dólares. A continuación, se encuentra la región 3 que genera 27 millones de dólares, y en último lugar, se encuentra la región 3, cuyas ganacias ascienden a 24 millones de dólres.\n",
        "\n",
        "En base a estos resultados la mejor región para el desarrollo de pozos sería la región 1, esto considerando los 200 mejores pozos con el mayor volumen de producto. Sin embargo, será necesario calcular este beneficio en base a submuestras y tomando en cuenta los 500 puntos que se estudian durante la exploración de cada región."
      ]
    },
    {
      "cell_type": "markdown",
      "metadata": {
        "id": "l0EnX1ZnPKfx"
      },
      "source": [
        "<div class=\"alert alert-block alert-success\">\n",
        "<b>Comentario del revisor</b> <a class=\"tocSkip\"></a>\n",
        "    \n",
        "Bien hecho. Siempre es mejor presentar los resultados de manera ordenada y específica. El código es importante pero lo que suma al final serán los resultados.\n",
        "</div>"
      ]
    },
    {
      "cell_type": "markdown",
      "metadata": {
        "id": "G4HrdmyHPKfx"
      },
      "source": [
        "## Cálculo de pérdidas y ganancias para cada región\n",
        "\n",
        "Establecida nuestra función para el cálculo de ganancias, ahora vamos a utilizar la técnica de bootstrapping para calcular la distribución del beneficio. Para esto construiremos la función `bootstrapping`, que generará 1000 submuestras a partir del objetivo de validación y sus predicciones, permitiendo un cálculo más acertado de las ganancias y pérdidas para cada una de las tres regiones.\n",
        "\n",
        "El tamaño de las submuestras será igual a 500, ya que para la exploración de cada región se realiza un estudio de 500 puntos. De cada submuestra del objetivo de validación se obtendrá sus respetivas predicciones, y en base a esto se calculará las ganancias con nuestra función previamente establecida `revenue`, que tomará como parámetros la submuestra del conjunto de validación y sus respectivas predicciones para los 200 mejores pozos.\n",
        "\n",
        "Los valores de ganancias para cada submuestra se guardarán en la lista `revenues`, la cual una vez haya sido transformada en un objeto Series, se obtendrá el beneficio promedio, el intervalo de confianza de 95% y el riesgo de pérdidas. Se calculará el intervalo de confianza inferior para el cuantil 0.025 y el superior para el cuantil 0.975. En el caso del riesgo o ganancia negativa, lo calcularemos como una probabilidad, dividiendo el número de valores menores a 0 entre el número total de valores de ganancias obtenidos a través de bootstrapping. La función contará con los siguientes parámetros:\n",
        "\n",
        "- `target_valid`: objetivo de validación de cada región.\n",
        "- `predictions`: predicciones realizadas por cada modelo por región.\n",
        "\n",
        "La función nos devolverá la distribución de ganancias por región `revenues`, el beneficio promedio `mean_profit`, el intervalo de confianza `confidence_interval` y el riesgo de pérdida `loss_risk`."
      ]
    },
    {
      "cell_type": "code",
      "execution_count": null,
      "metadata": {
        "id": "6b69gSPiPKfx"
      },
      "outputs": [],
      "source": [
        "def bootstrapping(target_valid, predictions):\n",
        "    # Creamos una instancia RandomState para que en cada iteración su estado cambie a aleatorio\n",
        "    state = np.random.RandomState(12345)\n",
        "    # Establecemos la lista revenues para guardar los valores de ganancias por submuestra\n",
        "    revenues = []\n",
        "\n",
        "    # Generamos un bucle for para un total de 1000 submuestras\n",
        "    for i in range(1000):\n",
        "\n",
        "        # Tomamos 500 puntos de cada submuestra y filtramos sus predicciones respestivas\n",
        "        target_subsample = target_valid.reset_index(drop=True).sample(n=points, replace=True, random_state=state)\n",
        "        predictions_subsample = predictions[target_subsample.index]\n",
        "        # Añadimos las ganancias a la lista append\n",
        "        revenues.append(revenue(target_subsample, predictions_subsample, best_points))\n",
        "\n",
        "    # Convertimos revenues en una serie\n",
        "    revenues = pd.Series(revenues)\n",
        "\n",
        "    # Calculamos el beneficio promedio, cuantiles y riesgo de pérdida\n",
        "    mean_profit = revenues.mean()\n",
        "\n",
        "    lower_quantile = round(revenues.quantile(0.025), 4)\n",
        "    upper_quantile = round(revenues.quantile(0.975), 4)\n",
        "\n",
        "    confidence_interval = [lower_quantile, upper_quantile]\n",
        "\n",
        "    loss_risk = len(revenues[revenues < 0])/len(revenues)*100\n",
        "\n",
        "    return revenues, mean_profit, confidence_interval, loss_risk"
      ]
    },
    {
      "cell_type": "markdown",
      "metadata": {
        "id": "d2faNzxxPKfx"
      },
      "source": [
        "<div class=\"alert alert-block alert-success\">\n",
        "<b>Comentario del revisor</b> <a class=\"tocSkip\"></a>\n",
        "    \n",
        "Excelente trabajo con la función. Las soluciones son más escalables y si algo sucede será mucho más fácil trabajar en ellas.\n",
        "</div>"
      ]
    },
    {
      "cell_type": "markdown",
      "metadata": {
        "id": "omxJEyabPKfx"
      },
      "source": [
        "Definida nuestra función, la aplicaremos al objetivo de validación y predicciones de cada región, y guardaremos los resultados en las respectivas variables. Trazaremos histogramas de frecuencia para la distribución de ganancias de cada región, y mostraremos los resultados a través de la construcción de un dataframe `revenue_boots`."
      ]
    },
    {
      "cell_type": "code",
      "execution_count": null,
      "metadata": {
        "id": "UR-qea8tPKfy"
      },
      "outputs": [],
      "source": [
        "# Guardamos la distribución del beneficio, beneficio promedio, intervalo de confianza y riesgo de pérdida\n",
        "revenues_1, mean_profit_1, confidence_interval_1, loss_risk_1 = bootstrapping(target_valid_1, predictions_1)\n",
        "revenues_2, mean_profit_2, confidence_interval_2, loss_risk_2 = bootstrapping(target_valid_2, predictions_2)\n",
        "revenues_3, mean_profit_3, confidence_interval_3, loss_risk_3 = bootstrapping(target_valid_3, predictions_3)"
      ]
    },
    {
      "cell_type": "code",
      "execution_count": null,
      "metadata": {
        "id": "hUj5qdCFPKfy",
        "outputId": "a1da60ef-890a-4744-8ab3-36cb6a9f90de"
      },
      "outputs": [
        {
          "data": {
            "image/png": "[encoded data removed]",
            "text/plain": [
              "<Figure size 2016x576 with 3 Axes>"
            ]
          },
          "metadata": {
            "needs_background": "light"
          },
          "output_type": "display_data"
        }
      ],
      "source": [
        "# Trazamos histogramas para la distribución de ganancias en cada región\n",
        "fig, axis = plt.subplots(ncols=3, nrows=1, figsize=(28, 8))\n",
        "# Construimos un array de una dimensión 1-D\n",
        "ax = axis.ravel()\n",
        "\n",
        "# Trazamos histogramas de ganancias para los 200 mejores puntos de las tres regiones\n",
        "revenues_1.hist(ax=ax[0], bins=15, edgecolor = 'black', linewidth = 0.5)\n",
        "revenues_2.hist(ax=ax[1], bins=15, edgecolor = 'black', linewidth = 0.5)\n",
        "revenues_3.hist(ax=ax[2], bins=15, edgecolor = 'black', linewidth = 0.5)\n",
        "\n",
        "# Establecemos el título para cada eje de nuestro array con set_title\n",
        "ax[0].set_title('Región 1')\n",
        "ax[1].set_title('Región 2')\n",
        "ax[2].set_title('Región 3')\n",
        "# Colocamos una línea vertical en la posición 0\n",
        "ax[0].axvline(x=0, color='r', ls='--')\n",
        "ax[1].axvline(x=0, color='r', ls='--')\n",
        "ax[2].axvline(x=0, color='r', ls='--')\n",
        "\n",
        "plt.suptitle('Distribución de ganancias por región', size='xx-large')\n",
        "plt.show()"
      ]
    },
    {
      "cell_type": "markdown",
      "metadata": {
        "id": "GOoA-81VPKfy"
      },
      "source": [
        "Al analizar los histogramas para la distribución de ganancias por región, podemos observar que las regiones 1 y 3 presentaron un mayor número de submuestras con ganancias negativas o pérdidas, mientras que para la región 1 se registraron pocas submuestras con ganancias menores a cero. A su vez, para la región 2 y 3 se pueden observar picos altos por encima de 175, lo que indica un mayor número de submuestras con ganacias por encima de los 4 millones para las 200 mejores puntos."
      ]
    },
    {
      "cell_type": "code",
      "execution_count": null,
      "metadata": {
        "id": "r1nK3u_lPKfy",
        "outputId": "1620106b-dd36-4008-caa4-eb507dd6531f"
      },
      "outputs": [
        {
          "data": {
            "text/html": [
              "<div>\n",
              "<style scoped>\n",
              "    .dataframe tbody tr th:only-of-type {\n",
              "        vertical-align: middle;\n",
              "    }\n",
              "\n",
              "    .dataframe tbody tr th {\n",
              "        vertical-align: top;\n",
              "    }\n",
              "\n",
              "    .dataframe thead th {\n",
              "        text-align: right;\n",
              "    }\n",
              "</style>\n",
              "<table border=\"1\" class=\"dataframe\">\n",
              "  <thead>\n",
              "    <tr style=\"text-align: right;\">\n",
              "      <th></th>\n",
              "      <th>region</th>\n",
              "      <th>mean_revenue</th>\n",
              "      <th>lower_confidence_interval_95%</th>\n",
              "      <th>upper_confidence_interval_95%</th>\n",
              "      <th>loss_risk_%</th>\n",
              "    </tr>\n",
              "  </thead>\n",
              "  <tbody>\n",
              "    <tr>\n",
              "      <th>0</th>\n",
              "      <td>Región 1</td>\n",
              "      <td>3961649.85</td>\n",
              "      <td>-1112155.459</td>\n",
              "      <td>9097669.416</td>\n",
              "      <td>6.9</td>\n",
              "    </tr>\n",
              "    <tr>\n",
              "      <th>1</th>\n",
              "      <td>Región 2</td>\n",
              "      <td>4560451.06</td>\n",
              "      <td>338205.094</td>\n",
              "      <td>8522894.539</td>\n",
              "      <td>1.5</td>\n",
              "    </tr>\n",
              "    <tr>\n",
              "      <th>2</th>\n",
              "      <td>Región 3</td>\n",
              "      <td>4044038.67</td>\n",
              "      <td>-1633504.134</td>\n",
              "      <td>9503595.749</td>\n",
              "      <td>7.6</td>\n",
              "    </tr>\n",
              "  </tbody>\n",
              "</table>\n",
              "</div>"
            ],
            "text/plain": [
              "     region  mean_revenue  lower_confidence_interval_95%  \\\n",
              "0  Región 1    3961649.85                   -1112155.459   \n",
              "1  Región 2    4560451.06                     338205.094   \n",
              "2  Región 3    4044038.67                   -1633504.134   \n",
              "\n",
              "   upper_confidence_interval_95%  loss_risk_%  \n",
              "0                    9097669.416          6.9  \n",
              "1                    8522894.539          1.5  \n",
              "2                    9503595.749          7.6  "
            ]
          },
          "execution_count": 46,
          "metadata": {},
          "output_type": "execute_result"
        }
      ],
      "source": [
        "# Construimos un dataframe con el beneficio promedio, intervalos de confianza y riesgo de pérdida\n",
        "revenues_boots = pd.DataFrame({\n",
        "    'region': ['Región 1', 'Región 2', 'Región 3'],\n",
        "    'mean_revenue': [round(mean_profit_1, 2),\n",
        "                     round(mean_profit_2, 2),\n",
        "                     round(mean_profit_3, 2)],\n",
        "    'lower_confidence_interval_95%': [round(confidence_interval_1[0],3),\n",
        "                                      round(confidence_interval_2[0],3),\n",
        "                                      round(confidence_interval_3[0],3)],\n",
        "    'upper_confidence_interval_95%': [round(confidence_interval_1[1],3),\n",
        "                                      round(confidence_interval_2[1],3),\n",
        "                                      round(confidence_interval_3[1],3)],\n",
        "    'loss_risk_%' : [loss_risk_1, loss_risk_2, loss_risk_3]\n",
        "\n",
        "})\n",
        "\n",
        "revenues_boots"
      ]
    },
    {
      "cell_type": "markdown",
      "metadata": {
        "id": "u7NCrBDFPKfy"
      },
      "source": [
        "<div class=\"alert alert-block alert-success\">\n",
        "<b>Comentario del revisor</b> <a class=\"tocSkip\"></a>\n",
        "    \n",
        "Bien. De esta forma es mucho más claro qué decisión tomar, en dónde invertir.\n",
        "</div>"
      ]
    },
    {
      "cell_type": "markdown",
      "metadata": {
        "id": "f3spRXtCPKfy"
      },
      "source": [
        "El beneficio promedio mayor se registra para la Región 2 con 4.5 millones de dólares en ganancias, seguida de la Región 3 con 4.04 millones y por último la Región 1 con 3.96 millones.\n",
        "\n",
        "Al observar los intervalos de confianza del 95%, las regiones 1 y 3 presentan un invertalo inferior negativo lo que confirma lo observado en los histogramas de frecuencia, estas dos regiones generaron mayor número de ganancias negativas. Mientras que la región 1 presenta un intervalo inferior positivo, lo que indica que no generará tanta pérdidas. Por otro lado, para el intervalo superior observamos que la región 1 y 3 mostraron los valores más altos para el cuantil 0.975, lo que indica que a pesar de que generan pérdidas algunas submuestras alcanzaron ganancias por encima de los 9 millones de dólares.\n",
        "\n",
        "En el caso del riesgo de pérdida, se observa que la Región 2 presentó un menor número de ganancias negativas, con un porcentaje de riesgo de 1.5%. Mientras que para las regiones 1 y 3 presentaron un riesgo de 6.9% y 7.6% respectivamente.\n",
        "\n",
        "En base a esto podemos establecer que la **REGIÓN 2** sería la mejor para el desarrollo de pozos, ya que presenta el beneficio promedio más alto entres las tres regiones y el riesgo de pérdida más bajo, lo que sería beneficioso para la empresa OilyGiant."
      ]
    },
    {
      "cell_type": "markdown",
      "metadata": {
        "id": "N-0me6NvPKfy"
      },
      "source": [
        "## Conclusiones\n",
        "\n",
        "**Preprocesamiento de datos**\n",
        "\n",
        "1. Se trabajó con los datos de tres regiones para establecer la región con el mayor margen de beneficio. No se encontraron valores ausentes ni duplicados en ninguno de los tres datasets, y a su vez los tipo de datos fueron correctos así que no se necesitó realizar ningún cambio.\n",
        "2. Al analizar la distribución de las variables numéricas de nuestros tres datasets, se observó una distribución similar para las variables de la región 1 y 3, que presentaron una ligera tendencia a la normalidad y un volumen promedio de crudo por encima de los 90 mil barriles. La región 2 presentó patrones diferentes de distribución de variables y un menor volumen de producto.\n",
        "3. Se registró una correlación positiva alta entre la variable f2 y el volumen producto.\n",
        "\n",
        "**Modelo de Regresión Lineal**\n",
        "\n",
        "1. Para la construcción del modelo se eliminó la columna con el id de cada pozo, ya que no proporciona información relevante en la predicción del volumen de producto.\n",
        "2. Se decide trabajar solo con tres variables en los tres conjuntos de datos para construir nuestro modelo predictivo, las cuales fueron previamente estandarizadas.\n",
        "3. Se dividieron los tres datasets en conjuntos de entrenamiento y validación en proporción 75:25, fijando como características las variables `f0`, `f1` y `f2`, y el objetivo la variable `product`.\n",
        "4. A continuación se procedió a construir un modelo de regresión lineal para cada región, para la cual se utilizó una función que nos permitió obtener el RECM, R2 y volumen promedio previsto de las tres regiones.\n",
        "5. **MEJOR MODELO**: de las tres regiones el mejor modelo fue para la REGIÓN 2, que presentó el error más bajo y el coeficiente de determinación más alto. Sin embargo, las regiones 1 y 3 presentaron el volumen promedio previsto más alto.\n",
        "\n",
        "**Margen de beneficio por región**\n",
        "\n",
        "1. Tomando en cuenta las consideraciones que realiza OilyGiant para calcular el beneficio se pudo establecer que el volumen de producto necesario en cada pozo para no generar pérdidas es de 111.11 mil barriles y el costo de desarrollo de un pozo es de 500.000 dólares. Al comparar este valor con el volumen promedio de cada región con este volumen, se pudo establecer que ninguna región alcanza este volumen de producto, siendo el volumen promedio más alto de 95 mil barriles, el registrado en la tercera región.\n",
        "2. Al desarrollar una función que calculó las ganancias por región en los 200 mejores pozos con el volumen previsto más alto, fue la región 1, la cual registró las ganancias más altas que ascienderon hasta los 33 millones de dólares. En el caso de las regiones 2 y 3 se obtuvieron ingresos inferiores a los 30 millone spara ambas regiones.\n",
        "3. Al calcular las ganancias a través de la técnica de bootstrapping para 1000 submuestras del objetivo de validación, con un tamaño de 500 y considerando solo los 200 mejores pozos de cada submuestra, se pudo establecer que la **REGIÓN 2** es la mejor región para el desarrollo de pozos ya que presentó el beneficio promedio más alto de 4.5 millones y el riesgo de pérdida más bajo de 1.5%. Si bien es una de las regiones con menor volumen de producto, es la que generará más ganancias y la que presentó el mejor modelo predictivo, además esta región presentó los mejores resultados al seguir la metodología de exploración y estudio de 500 puntos que sigue la compañía petrolera OilyGiant"
      ]
    },
    {
      "cell_type": "markdown",
      "metadata": {
        "id": "zd9ruXYRPKfy"
      },
      "source": [
        "<div class=\"alert alert-block alert-success\">\n",
        "\n",
        "# Comentarios generales 1\n",
        "    \n",
        "<b>Comentario del revisor</b> <a class=\"tocSkip\"></a>\n",
        "    \n",
        "¡Qué gran trabajo has hecho, Diana! Los cálculos, las soluciones, la construcción de las funciones y la presentación de los resultados son todos de resaltar. Es necesario, no obstante, trabajar en la modularización de la primera sección. Así como construiste una función para el bootstrapping que te permitió generalizar fácilmente la operación, se puede pensar en algo parecido. No obstante, esto no afecta el desarrollo del trabajo y favorece la legibilidad del mismo. Así que lo dejaré a tu consideración, si crees que es necesario el cambio o no.\n",
        "    \n",
        "¡Felicitaciones! Te acercas al final del segundo módulo y lo has hecho muy bien. Sigue por este camino.\n",
        "</div>"
      ]
    }
  ],
  "metadata": {
    "kernelspec": {
      "display_name": "Python 3 (ipykernel)",
      "language": "python",
      "name": "python3"
    },
    "language_info": {
      "codemirror_mode": {
        "name": "ipython",
        "version": 3
      },
      "file_extension": ".py",
      "mimetype": "text/x-python",
      "name": "python",
      "nbconvert_exporter": "python",
      "pygments_lexer": "ipython3",
      "version": "3.8.10"
    },
    "toc": {
      "base_numbering": 1,
      "nav_menu": {},
      "number_sections": true,
      "sideBar": true,
      "skip_h1_title": true,
      "title_cell": "Tabla de Contenidos",
      "title_sidebar": "Contents",
      "toc_cell": true,
      "toc_position": {
        "height": "calc(100% - 180px)",
        "left": "10px",
        "top": "150px",
        "width": "286.075px"
      },
      "toc_section_display": true,
      "toc_window_display": false
    },
    "colab": {
      "provenance": []
    }
  },
  "nbformat": 4,
  "nbformat_minor": 0
}